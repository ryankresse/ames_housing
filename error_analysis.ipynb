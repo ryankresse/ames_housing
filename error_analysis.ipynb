{
 "cells": [
  {
   "cell_type": "code",
   "execution_count": 73,
   "metadata": {
    "collapsed": false
   },
   "outputs": [],
   "source": [
    "%matplotlib inline\n",
    "import numpy as np\n",
    "import matplotlib.pyplot as plt\n",
    "import pandas as pd\n",
    "import scipy.stats as stats\n",
    "from scipy.stats import skew\n",
    "import seaborn as sns\n",
    "import sklearn\n",
    "import warnings\n",
    "from sklearn.model_selection import KFold\n",
    "from sklearn.linear_model import Lasso\n",
    "from sklearn.externals import joblib\n"
   ]
  },
  {
   "cell_type": "code",
   "execution_count": 74,
   "metadata": {
    "collapsed": false
   },
   "outputs": [],
   "source": [
    "#MSSubClass is set of discrete ints, so this makes it easier to use it as a categorical feature\n",
    "train_clean = pd.read_csv('train_clean.csv', dtype={'MSSubClass': str})  \n",
    "train = pd.read_csv('train.csv', dtype={'MSSubClass': str})"
   ]
  },
  {
   "cell_type": "code",
   "execution_count": 75,
   "metadata": {
    "collapsed": false
   },
   "outputs": [],
   "source": [
    "kf = KFold( 4, shuffle=True)"
   ]
  },
  {
   "cell_type": "code",
   "execution_count": null,
   "metadata": {
    "collapsed": false
   },
   "outputs": [],
   "source": []
  },
  {
   "cell_type": "code",
   "execution_count": 123,
   "metadata": {
    "collapsed": false
   },
   "outputs": [
    {
     "name": "stdout",
     "output_type": "stream",
     "text": [
      "mean val error: 0.08205030063017466\n",
      "mean train error: 0.07413671746790224\n"
     ]
    }
   ],
   "source": [
    "val_idx_list = []\n",
    "val_preds = []\n",
    "train_preds = []\n",
    "val_errors = []\n",
    "train_rmse = []\n",
    "val_rmse = []\n",
    "\n",
    "for tr_idx, val_idx in kf.split(train):\n",
    "    X_tr, y_tr = X_train.iloc[tr_idx, :], y_train.iloc[tr_idx]\n",
    "    X_val, y_val = X_train.iloc[val_idx, :], y_train.iloc[val_idx]\n",
    "    val_idx_list.append(val_idx)\n",
    "    ls = Lasso(alpha=0.001) #the hyperparameter we found to be best\n",
    "    ls.fit(X_tr, y_tr)\n",
    "    preds = ls.predict(X_val)\n",
    "    val_preds.append(preds)\n",
    "    val_errors.append(np.abs(y_val.values - preds))\n",
    "    tr_preds = ls.predict(X_tr)\n",
    "    train_preds.append(tr_preds)\n",
    "    train_rmse.append(np.mean(np.sqrt((y_tr.values - tr_preds)**2)))\n",
    "    val_rmse.append(np.mean(np.sqrt((y_val.values - preds)**2)))\n",
    "\n",
    "print(\"mean val error: {}\".format(np.mean(val_rmse)))\n",
    "print(\"mean train error: {}\".format(np.mean(train_rmse)))\n",
    "    "
   ]
  },
  {
   "cell_type": "code",
   "execution_count": 124,
   "metadata": {
    "collapsed": true
   },
   "outputs": [],
   "source": [
    "val_idx = np.concatenate([l for l in val_idx_list])\n",
    "val_preds = np.concatenate([p for p in val_preds])\n",
    "val_errors = np.concatenate([e for e in val_errors])\n",
    "merge_df = pd.DataFrame(np.hstack([val_preds[:, np.newaxis], val_errors[:, np.newaxis]]), columns=['log_pred', 'log_error'], index=val_idx)\n",
    "err_df = train.merge(merge_df, left_index=True, right_index=True)"
   ]
  },
  {
   "cell_type": "code",
   "execution_count": 125,
   "metadata": {
    "collapsed": false
   },
   "outputs": [
    {
     "data": {
      "text/html": [
       "<div>\n",
       "<table border=\"1\" class=\"dataframe\">\n",
       "  <thead>\n",
       "    <tr style=\"text-align: right;\">\n",
       "      <th></th>\n",
       "      <th>Id</th>\n",
       "      <th>MSSubClass</th>\n",
       "      <th>MSZoning</th>\n",
       "      <th>LotFrontage</th>\n",
       "      <th>LotArea</th>\n",
       "      <th>Street</th>\n",
       "      <th>Alley</th>\n",
       "      <th>LotShape</th>\n",
       "      <th>LandContour</th>\n",
       "      <th>Utilities</th>\n",
       "      <th>...</th>\n",
       "      <th>Fence</th>\n",
       "      <th>MiscFeature</th>\n",
       "      <th>MiscVal</th>\n",
       "      <th>MoSold</th>\n",
       "      <th>YrSold</th>\n",
       "      <th>SaleType</th>\n",
       "      <th>SaleCondition</th>\n",
       "      <th>SalePrice</th>\n",
       "      <th>log_pred</th>\n",
       "      <th>log_error</th>\n",
       "    </tr>\n",
       "  </thead>\n",
       "  <tbody>\n",
       "    <tr>\n",
       "      <th>3</th>\n",
       "      <td>4</td>\n",
       "      <td>70</td>\n",
       "      <td>RL</td>\n",
       "      <td>60.0</td>\n",
       "      <td>9550</td>\n",
       "      <td>Pave</td>\n",
       "      <td>NaN</td>\n",
       "      <td>IR1</td>\n",
       "      <td>Lvl</td>\n",
       "      <td>AllPub</td>\n",
       "      <td>...</td>\n",
       "      <td>NaN</td>\n",
       "      <td>NaN</td>\n",
       "      <td>0</td>\n",
       "      <td>2</td>\n",
       "      <td>2006</td>\n",
       "      <td>WD</td>\n",
       "      <td>Abnorml</td>\n",
       "      <td>140000</td>\n",
       "      <td>12.072969</td>\n",
       "      <td>0.223564</td>\n",
       "    </tr>\n",
       "    <tr>\n",
       "      <th>6</th>\n",
       "      <td>7</td>\n",
       "      <td>20</td>\n",
       "      <td>RL</td>\n",
       "      <td>75.0</td>\n",
       "      <td>10084</td>\n",
       "      <td>Pave</td>\n",
       "      <td>NaN</td>\n",
       "      <td>Reg</td>\n",
       "      <td>Lvl</td>\n",
       "      <td>AllPub</td>\n",
       "      <td>...</td>\n",
       "      <td>NaN</td>\n",
       "      <td>NaN</td>\n",
       "      <td>0</td>\n",
       "      <td>8</td>\n",
       "      <td>2007</td>\n",
       "      <td>WD</td>\n",
       "      <td>Normal</td>\n",
       "      <td>307000</td>\n",
       "      <td>12.536456</td>\n",
       "      <td>0.098151</td>\n",
       "    </tr>\n",
       "    <tr>\n",
       "      <th>15</th>\n",
       "      <td>16</td>\n",
       "      <td>45</td>\n",
       "      <td>RM</td>\n",
       "      <td>51.0</td>\n",
       "      <td>6120</td>\n",
       "      <td>Pave</td>\n",
       "      <td>NaN</td>\n",
       "      <td>Reg</td>\n",
       "      <td>Lvl</td>\n",
       "      <td>AllPub</td>\n",
       "      <td>...</td>\n",
       "      <td>GdPrv</td>\n",
       "      <td>NaN</td>\n",
       "      <td>0</td>\n",
       "      <td>7</td>\n",
       "      <td>2007</td>\n",
       "      <td>WD</td>\n",
       "      <td>Normal</td>\n",
       "      <td>132000</td>\n",
       "      <td>11.797304</td>\n",
       "      <td>0.006739</td>\n",
       "    </tr>\n",
       "    <tr>\n",
       "      <th>16</th>\n",
       "      <td>17</td>\n",
       "      <td>20</td>\n",
       "      <td>RL</td>\n",
       "      <td>NaN</td>\n",
       "      <td>11241</td>\n",
       "      <td>Pave</td>\n",
       "      <td>NaN</td>\n",
       "      <td>IR1</td>\n",
       "      <td>Lvl</td>\n",
       "      <td>AllPub</td>\n",
       "      <td>...</td>\n",
       "      <td>NaN</td>\n",
       "      <td>Shed</td>\n",
       "      <td>700</td>\n",
       "      <td>3</td>\n",
       "      <td>2010</td>\n",
       "      <td>WD</td>\n",
       "      <td>Normal</td>\n",
       "      <td>149000</td>\n",
       "      <td>11.946573</td>\n",
       "      <td>0.034865</td>\n",
       "    </tr>\n",
       "    <tr>\n",
       "      <th>20</th>\n",
       "      <td>21</td>\n",
       "      <td>60</td>\n",
       "      <td>RL</td>\n",
       "      <td>101.0</td>\n",
       "      <td>14215</td>\n",
       "      <td>Pave</td>\n",
       "      <td>NaN</td>\n",
       "      <td>IR1</td>\n",
       "      <td>Lvl</td>\n",
       "      <td>AllPub</td>\n",
       "      <td>...</td>\n",
       "      <td>NaN</td>\n",
       "      <td>NaN</td>\n",
       "      <td>0</td>\n",
       "      <td>11</td>\n",
       "      <td>2006</td>\n",
       "      <td>New</td>\n",
       "      <td>Partial</td>\n",
       "      <td>325300</td>\n",
       "      <td>12.664523</td>\n",
       "      <td>0.027983</td>\n",
       "    </tr>\n",
       "  </tbody>\n",
       "</table>\n",
       "<p>5 rows × 83 columns</p>\n",
       "</div>"
      ],
      "text/plain": [
       "    Id MSSubClass MSZoning  LotFrontage  LotArea Street Alley LotShape  \\\n",
       "3    4         70       RL         60.0     9550   Pave   NaN      IR1   \n",
       "6    7         20       RL         75.0    10084   Pave   NaN      Reg   \n",
       "15  16         45       RM         51.0     6120   Pave   NaN      Reg   \n",
       "16  17         20       RL          NaN    11241   Pave   NaN      IR1   \n",
       "20  21         60       RL        101.0    14215   Pave   NaN      IR1   \n",
       "\n",
       "   LandContour Utilities    ...      Fence MiscFeature MiscVal MoSold YrSold  \\\n",
       "3          Lvl    AllPub    ...        NaN         NaN       0      2   2006   \n",
       "6          Lvl    AllPub    ...        NaN         NaN       0      8   2007   \n",
       "15         Lvl    AllPub    ...      GdPrv         NaN       0      7   2007   \n",
       "16         Lvl    AllPub    ...        NaN        Shed     700      3   2010   \n",
       "20         Lvl    AllPub    ...        NaN         NaN       0     11   2006   \n",
       "\n",
       "   SaleType SaleCondition  SalePrice   log_pred  log_error  \n",
       "3        WD       Abnorml     140000  12.072969   0.223564  \n",
       "6        WD        Normal     307000  12.536456   0.098151  \n",
       "15       WD        Normal     132000  11.797304   0.006739  \n",
       "16       WD        Normal     149000  11.946573   0.034865  \n",
       "20      New       Partial     325300  12.664523   0.027983  \n",
       "\n",
       "[5 rows x 83 columns]"
      ]
     },
     "execution_count": 125,
     "metadata": {},
     "output_type": "execute_result"
    }
   ],
   "source": [
    "err_df.head()"
   ]
  },
  {
   "cell_type": "code",
   "execution_count": 127,
   "metadata": {
    "collapsed": false
   },
   "outputs": [],
   "source": [
    "err_df['pred'] = np.expm1(err_df.log_pred)\n",
    "err_df['abs_error'] = np.abs(err_df.SalePrice - err_df.pred)\n",
    "err_df['error'] = -(err_df.SalePrice - err_df.pred)"
   ]
  },
  {
   "cell_type": "code",
   "execution_count": 128,
   "metadata": {
    "collapsed": false
   },
   "outputs": [
    {
     "data": {
      "text/plain": [
       "count      1460.000000\n",
       "mean      -1935.959548\n",
       "std       32403.713485\n",
       "min     -296013.784554\n",
       "25%      -10600.612040\n",
       "50%        -717.475005\n",
       "75%        8371.034619\n",
       "max      724151.691612\n",
       "Name: error, dtype: float64"
      ]
     },
     "execution_count": 128,
     "metadata": {},
     "output_type": "execute_result"
    }
   ],
   "source": [
    "err_df.error.describe()"
   ]
  },
  {
   "cell_type": "markdown",
   "metadata": {},
   "source": [
    "Let's plot the errors versus saleprice and our predictions to get a better sense of where we went wrong."
   ]
  },
  {
   "cell_type": "code",
   "execution_count": 129,
   "metadata": {
    "collapsed": false
   },
   "outputs": [
    {
     "data": {
      "text/plain": [
       "<matplotlib.axes._subplots.AxesSubplot at 0x7f20edbb0748>"
      ]
     },
     "execution_count": 129,
     "metadata": {},
     "output_type": "execute_result"
    },
    {
     "data": {
      "image/png": "[encoded data removed]",
      "text/plain": [
       "<matplotlib.figure.Figure at 0x7f20edb33208>"
      ]
     },
     "metadata": {},
     "output_type": "display_data"
    }
   ],
   "source": [
    "sns.regplot(x='SalePrice', y='error', data=err_df)"
   ]
  },
  {
   "cell_type": "code",
   "execution_count": 130,
   "metadata": {
    "collapsed": false
   },
   "outputs": [
    {
     "data": {
      "text/plain": [
       "<matplotlib.axes._subplots.AxesSubplot at 0x7f20eda416a0>"
      ]
     },
     "execution_count": 130,
     "metadata": {},
     "output_type": "execute_result"
    },
    {
     "data": {
      "image/png": "[encoded data removed]",
      "text/plain": [
       "<matplotlib.figure.Figure at 0x7f20eda54278>"
      ]
     },
     "metadata": {},
     "output_type": "display_data"
    }
   ],
   "source": [
    "sns.regplot(y='SalePrice', x='pred', data=err_df)"
   ]
  },
  {
   "cell_type": "markdown",
   "metadata": {},
   "source": [
    "It looks like we have four houses where we were way off. Let's take a look at them."
   ]
  },
  {
   "cell_type": "code",
   "execution_count": 139,
   "metadata": {
    "collapsed": false
   },
   "outputs": [],
   "source": [
    "most_wrong = err_df.sort_values('abs_error', ascending=False)"
   ]
  },
  {
   "cell_type": "code",
   "execution_count": 138,
   "metadata": {
    "collapsed": false
   },
   "outputs": [
    {
     "data": {
      "text/plain": [
       "Normal     39\n",
       "Partial    24\n",
       "Abnorml     8\n",
       "Alloca      2\n",
       "Family      2\n",
       "Name: SaleCondition, dtype: int64"
      ]
     },
     "execution_count": 138,
     "metadata": {},
     "output_type": "execute_result"
    }
   ],
   "source": [
    "most_wrong.SaleCondition.value_counts()"
   ]
  },
  {
   "cell_type": "code",
   "execution_count": 84,
   "metadata": {
    "collapsed": false
   },
   "outputs": [
    {
     "data": {
      "text/html": [
       "<div>\n",
       "<table border=\"1\" class=\"dataframe\">\n",
       "  <thead>\n",
       "    <tr style=\"text-align: right;\">\n",
       "      <th></th>\n",
       "      <th>Id</th>\n",
       "      <th>MSSubClass</th>\n",
       "      <th>MSZoning</th>\n",
       "      <th>LotFrontage</th>\n",
       "      <th>LotArea</th>\n",
       "      <th>Street</th>\n",
       "      <th>Alley</th>\n",
       "      <th>LotShape</th>\n",
       "      <th>LandContour</th>\n",
       "      <th>Utilities</th>\n",
       "      <th>...</th>\n",
       "      <th>MoSold</th>\n",
       "      <th>YrSold</th>\n",
       "      <th>SaleType</th>\n",
       "      <th>SaleCondition</th>\n",
       "      <th>SalePrice</th>\n",
       "      <th>log_pred</th>\n",
       "      <th>log_error</th>\n",
       "      <th>pred</th>\n",
       "      <th>abs_error</th>\n",
       "      <th>error</th>\n",
       "    </tr>\n",
       "  </thead>\n",
       "  <tbody>\n",
       "    <tr>\n",
       "      <th>1298</th>\n",
       "      <td>1299</td>\n",
       "      <td>60</td>\n",
       "      <td>RL</td>\n",
       "      <td>313.0</td>\n",
       "      <td>63887</td>\n",
       "      <td>Pave</td>\n",
       "      <td>NaN</td>\n",
       "      <td>IR3</td>\n",
       "      <td>Bnk</td>\n",
       "      <td>AllPub</td>\n",
       "      <td>...</td>\n",
       "      <td>1</td>\n",
       "      <td>2008</td>\n",
       "      <td>New</td>\n",
       "      <td>Partial</td>\n",
       "      <td>160000</td>\n",
       "      <td>13.712189</td>\n",
       "      <td>1.729253</td>\n",
       "      <td>901835.679236</td>\n",
       "      <td>741835.679236</td>\n",
       "      <td>741835.679236</td>\n",
       "    </tr>\n",
       "    <tr>\n",
       "      <th>1182</th>\n",
       "      <td>1183</td>\n",
       "      <td>60</td>\n",
       "      <td>RL</td>\n",
       "      <td>160.0</td>\n",
       "      <td>15623</td>\n",
       "      <td>Pave</td>\n",
       "      <td>NaN</td>\n",
       "      <td>IR1</td>\n",
       "      <td>Lvl</td>\n",
       "      <td>AllPub</td>\n",
       "      <td>...</td>\n",
       "      <td>7</td>\n",
       "      <td>2007</td>\n",
       "      <td>WD</td>\n",
       "      <td>Abnorml</td>\n",
       "      <td>745000</td>\n",
       "      <td>12.404540</td>\n",
       "      <td>1.116601</td>\n",
       "      <td>243905.470122</td>\n",
       "      <td>501094.529878</td>\n",
       "      <td>-501094.529878</td>\n",
       "    </tr>\n",
       "    <tr>\n",
       "      <th>523</th>\n",
       "      <td>524</td>\n",
       "      <td>60</td>\n",
       "      <td>RL</td>\n",
       "      <td>130.0</td>\n",
       "      <td>40094</td>\n",
       "      <td>Pave</td>\n",
       "      <td>NaN</td>\n",
       "      <td>IR1</td>\n",
       "      <td>Bnk</td>\n",
       "      <td>AllPub</td>\n",
       "      <td>...</td>\n",
       "      <td>10</td>\n",
       "      <td>2007</td>\n",
       "      <td>New</td>\n",
       "      <td>Partial</td>\n",
       "      <td>184750</td>\n",
       "      <td>13.297377</td>\n",
       "      <td>1.170613</td>\n",
       "      <td>595630.161568</td>\n",
       "      <td>410880.161568</td>\n",
       "      <td>410880.161568</td>\n",
       "    </tr>\n",
       "    <tr>\n",
       "      <th>691</th>\n",
       "      <td>692</td>\n",
       "      <td>60</td>\n",
       "      <td>RL</td>\n",
       "      <td>104.0</td>\n",
       "      <td>21535</td>\n",
       "      <td>Pave</td>\n",
       "      <td>NaN</td>\n",
       "      <td>IR1</td>\n",
       "      <td>Lvl</td>\n",
       "      <td>AllPub</td>\n",
       "      <td>...</td>\n",
       "      <td>1</td>\n",
       "      <td>2007</td>\n",
       "      <td>WD</td>\n",
       "      <td>Normal</td>\n",
       "      <td>755000</td>\n",
       "      <td>13.220043</td>\n",
       "      <td>0.314431</td>\n",
       "      <td>551303.982539</td>\n",
       "      <td>203696.017461</td>\n",
       "      <td>-203696.017461</td>\n",
       "    </tr>\n",
       "  </tbody>\n",
       "</table>\n",
       "<p>4 rows × 86 columns</p>\n",
       "</div>"
      ],
      "text/plain": [
       "        Id MSSubClass MSZoning  LotFrontage  LotArea Street Alley LotShape  \\\n",
       "1298  1299         60       RL        313.0    63887   Pave   NaN      IR3   \n",
       "1182  1183         60       RL        160.0    15623   Pave   NaN      IR1   \n",
       "523    524         60       RL        130.0    40094   Pave   NaN      IR1   \n",
       "691    692         60       RL        104.0    21535   Pave   NaN      IR1   \n",
       "\n",
       "     LandContour Utilities      ...       MoSold YrSold SaleType  \\\n",
       "1298         Bnk    AllPub      ...            1   2008      New   \n",
       "1182         Lvl    AllPub      ...            7   2007       WD   \n",
       "523          Bnk    AllPub      ...           10   2007      New   \n",
       "691          Lvl    AllPub      ...            1   2007       WD   \n",
       "\n",
       "     SaleCondition SalePrice   log_pred log_error           pred  \\\n",
       "1298       Partial    160000  13.712189  1.729253  901835.679236   \n",
       "1182       Abnorml    745000  12.404540  1.116601  243905.470122   \n",
       "523        Partial    184750  13.297377  1.170613  595630.161568   \n",
       "691         Normal    755000  13.220043  0.314431  551303.982539   \n",
       "\n",
       "          abs_error          error  \n",
       "1298  741835.679236  741835.679236  \n",
       "1182  501094.529878 -501094.529878  \n",
       "523   410880.161568  410880.161568  \n",
       "691   203696.017461 -203696.017461  \n",
       "\n",
       "[4 rows x 86 columns]"
      ]
     },
     "execution_count": 84,
     "metadata": {},
     "output_type": "execute_result"
    }
   ],
   "source": [
    "most_wrong.head()"
   ]
  },
  {
   "cell_type": "markdown",
   "metadata": {},
   "source": [
    "From a previous notebook, we learned that GrLivingArea, Neighborhood and OverallQual were the most important features. So let's hone in on those. "
   ]
  },
  {
   "cell_type": "code",
   "execution_count": 85,
   "metadata": {
    "collapsed": false
   },
   "outputs": [
    {
     "data": {
      "text/plain": [
       "1298    5642\n",
       "1182    4476\n",
       "523     4676\n",
       "691     4316\n",
       "Name: GrLivArea, dtype: int64"
      ]
     },
     "execution_count": 85,
     "metadata": {},
     "output_type": "execute_result"
    }
   ],
   "source": [
    "most_wrong.GrLivArea"
   ]
  },
  {
   "cell_type": "code",
   "execution_count": 86,
   "metadata": {
    "collapsed": false
   },
   "outputs": [
    {
     "data": {
      "text/plain": [
       "1515.463698630137"
      ]
     },
     "execution_count": 86,
     "metadata": {},
     "output_type": "execute_result"
    }
   ],
   "source": [
    "train.GrLivArea.mean()"
   ]
  },
  {
   "cell_type": "code",
   "execution_count": 110,
   "metadata": {
    "collapsed": false
   },
   "outputs": [
    {
     "data": {
      "text/plain": [
       "1298    Edwards\n",
       "1182    NoRidge\n",
       "523     Edwards\n",
       "691     NoRidge\n",
       "Name: Neighborhood, dtype: object"
      ]
     },
     "execution_count": 110,
     "metadata": {},
     "output_type": "execute_result"
    }
   ],
   "source": [
    "most_wrong.Neighborhood"
   ]
  },
  {
   "cell_type": "code",
   "execution_count": 88,
   "metadata": {
    "collapsed": false
   },
   "outputs": [
    {
     "data": {
      "text/plain": [
       "1298    10\n",
       "1182    10\n",
       "523     10\n",
       "691     10\n",
       "Name: OverallQual, dtype: int64"
      ]
     },
     "execution_count": 88,
     "metadata": {},
     "output_type": "execute_result"
    }
   ],
   "source": [
    "most_wrong.OverallQual"
   ]
  },
  {
   "cell_type": "code",
   "execution_count": 91,
   "metadata": {
    "collapsed": false
   },
   "outputs": [
    {
     "data": {
      "text/plain": [
       "6.0993150684931505"
      ]
     },
     "execution_count": 91,
     "metadata": {},
     "output_type": "execute_result"
    }
   ],
   "source": [
    "train.OverallQual.mean()"
   ]
  },
  {
   "cell_type": "markdown",
   "metadata": {},
   "source": [
    "We can see that our potential outliers are large, high-quality houses. What's interesting is that we predicted too low a price for two of them, and two high a price for the other two. Two of the houses are partial sales and one was abnormal. Maybe that has something to do with it?\n",
    "\n",
    "Neighborhood could also be the culprit. When we fit our original model, we found the Edwards neighborhood to be one of the strongest negative predictors of price. The two houses where we predicted too high a price were in Edwards. Maybe that's what dragged their price down?\n",
    "\n",
    "Let's remove the outliers, fit a new model, and see what happens."
   ]
  },
  {
   "cell_type": "code",
   "execution_count": 97,
   "metadata": {
    "collapsed": false
   },
   "outputs": [],
   "source": [
    "no_outliers = train_clean.drop(train_clean.index[most_wrong.index.values])"
   ]
  },
  {
   "cell_type": "code",
   "execution_count": 99,
   "metadata": {
    "collapsed": true
   },
   "outputs": [],
   "source": [
    "X = no_outliers.drop('SalePrice', axis=1)\n",
    "y = no_outliers['SalePrice']"
   ]
  },
  {
   "cell_type": "code",
   "execution_count": 100,
   "metadata": {
    "collapsed": true
   },
   "outputs": [],
   "source": [
    "ls = Lasso(alpha=0.001)"
   ]
  },
  {
   "cell_type": "raw",
   "metadata": {},
   "source": [
    "ls.fit(X,y)"
   ]
  },
  {
   "cell_type": "code",
   "execution_count": 102,
   "metadata": {
    "collapsed": true
   },
   "outputs": [],
   "source": [
    "X_test = pd.read_csv('test_clean.csv')"
   ]
  },
  {
   "cell_type": "code",
   "execution_count": 105,
   "metadata": {
    "collapsed": false
   },
   "outputs": [],
   "source": [
    "preds = ls.predict(X_test)"
   ]
  },
  {
   "cell_type": "code",
   "execution_count": 106,
   "metadata": {
    "collapsed": true
   },
   "outputs": [],
   "source": [
    "preds = np.expm1(preds)\n",
    "\n",
    "solution = pd.DataFrame({\"id\":X_test.Id, \"SalePrice\":preds}, columns=['id', 'SalePrice'])\n",
    "\n",
    "solution.to_csv(\"lasso_no_outliers.csv\", index = False)"
   ]
  },
  {
   "cell_type": "markdown",
   "metadata": {},
   "source": [
    "That submission did score better that our previous submission. But I later discovered that removing only two of those four houses (the ones for which we predicted too high a price) worked even better. I think this is because many of our larger errors tended to be underpredicting price, and the outliers we removed were causing some of this."
   ]
  },
  {
   "cell_type": "markdown",
   "metadata": {},
   "source": [
    "## Do it again"
   ]
  },
  {
   "cell_type": "code",
   "execution_count": 111,
   "metadata": {
    "collapsed": false
   },
   "outputs": [
    {
     "name": "stdout",
     "output_type": "stream",
     "text": [
      "mean val error: 0.07851884115153562\n",
      "mean train error: 0.07212970079876267\n"
     ]
    }
   ],
   "source": [
    "val_idx_list = []\n",
    "val_preds = []\n",
    "train_preds = []\n",
    "val_errors = []\n",
    "train_rmse = []\n",
    "val_rmse = []\n",
    "\n",
    "for tr_idx, val_idx in kf.split(X):\n",
    "    X_tr, y_tr = X.iloc[tr_idx, :], y.iloc[tr_idx]\n",
    "    X_val, y_val = X.iloc[val_idx, :], y.iloc[val_idx]\n",
    "    val_idx_list.append(val_idx)\n",
    "    ls = Lasso(alpha=0.001) #the hyperparameter we found to be best\n",
    "    ls.fit(X_tr, y_tr)\n",
    "    preds = ls.predict(X_val)\n",
    "    val_preds.append(preds)\n",
    "    val_errors.append(np.abs(y_val.values - preds))\n",
    "    tr_preds = ls.predict(X_tr)\n",
    "    train_preds.append(tr_preds)\n",
    "    train_rmse.append(np.mean(np.sqrt((y_tr.values - tr_preds)**2)))\n",
    "    val_rmse.append(np.mean(np.sqrt((y_val.values - preds)**2)))\n",
    "\n",
    "print(\"mean val error: {}\".format(np.mean(val_rmse)))\n",
    "print(\"mean train error: {}\".format(np.mean(train_rmse)))\n",
    "    "
   ]
  },
  {
   "cell_type": "code",
   "execution_count": 112,
   "metadata": {
    "collapsed": true
   },
   "outputs": [],
   "source": [
    "val_idx = np.concatenate([l for l in val_idx_list])\n",
    "val_preds = np.concatenate([p for p in val_preds])\n",
    "val_errors = np.concatenate([e for e in val_errors])\n",
    "merge_df = pd.DataFrame(np.hstack([val_preds[:, np.newaxis], val_errors[:, np.newaxis]]), columns=['log_pred', 'log_error'], index=val_idx)\n",
    "err_df = train.merge(merge_df, left_index=True, right_index=True)"
   ]
  },
  {
   "cell_type": "code",
   "execution_count": 113,
   "metadata": {
    "collapsed": false
   },
   "outputs": [],
   "source": [
    "err_df['pred'] = np.expm1(err_df.log_pred)\n",
    "err_df['abs_error'] = np.abs(err_df.SalePrice - err_df.pred)\n",
    "err_df['error'] = -(err_df.SalePrice - err_df.pred)"
   ]
  },
  {
   "cell_type": "code",
   "execution_count": null,
   "metadata": {
    "collapsed": true
   },
   "outputs": [],
   "source": [
    "#remove outliers\n",
    "#train = train[(train.Id != 1299) & (train.Id != 524)]\n"
   ]
  },
  {
   "cell_type": "code",
   "execution_count": 114,
   "metadata": {
    "collapsed": false
   },
   "outputs": [
    {
     "data": {
      "text/plain": [
       "<matplotlib.axes._subplots.AxesSubplot at 0x7f20edc5d2e8>"
      ]
     },
     "execution_count": 114,
     "metadata": {},
     "output_type": "execute_result"
    },
    {
     "data": {
      "image/png": "[encoded data removed]",
      "text/plain": [
       "<matplotlib.figure.Figure at 0x7f20edbfbe48>"
      ]
     },
     "metadata": {},
     "output_type": "display_data"
    }
   ],
   "source": [
    "sns.regplot(y='SalePrice', x='pred', data=err_df)"
   ]
  },
  {
   "cell_type": "code",
   "execution_count": 115,
   "metadata": {
    "collapsed": false
   },
   "outputs": [],
   "source": [
    "most_wrong = err_df.sort_values('abs_error', ascending=False)[:10"
   ]
  },
  {
   "cell_type": "code",
   "execution_count": 117,
   "metadata": {
    "collapsed": false
   },
   "outputs": [
    {
     "data": {
      "text/plain": [
       "691     4316\n",
       "1182    4476\n",
       "898     2364\n",
       "1169    3627\n",
       "1046    2868\n",
       "769     3279\n",
       "803     2822\n",
       "527     2713\n",
       "1142    2828\n",
       "1373    2633\n",
       "Name: GrLivArea, dtype: int64"
      ]
     },
     "execution_count": 117,
     "metadata": {},
     "output_type": "execute_result"
    }
   ],
   "source": [
    "most_wrong.GrLivArea"
   ]
  },
  {
   "cell_type": "code",
   "execution_count": 118,
   "metadata": {
    "collapsed": false
   },
   "outputs": [
    {
     "data": {
      "text/plain": [
       "691     10\n",
       "1182    10\n",
       "898      9\n",
       "1169    10\n",
       "1046     9\n",
       "769      8\n",
       "803      9\n",
       "527      9\n",
       "1142     8\n",
       "1373    10\n",
       "Name: OverallQual, dtype: int64"
      ]
     },
     "execution_count": 118,
     "metadata": {},
     "output_type": "execute_result"
    }
   ],
   "source": [
    "most_wrong.OverallQual"
   ]
  },
  {
   "cell_type": "code",
   "execution_count": 119,
   "metadata": {
    "collapsed": false
   },
   "outputs": [
    {
     "data": {
      "text/plain": [
       "691     NoRidge\n",
       "1182    NoRidge\n",
       "898     NridgHt\n",
       "1169    NoRidge\n",
       "1046    StoneBr\n",
       "769     StoneBr\n",
       "803     NridgHt\n",
       "527     NridgHt\n",
       "1142    CollgCr\n",
       "1373    NoRidge\n",
       "Name: Neighborhood, dtype: object"
      ]
     },
     "execution_count": 119,
     "metadata": {},
     "output_type": "execute_result"
    }
   ],
   "source": [
    "most_wrong.Neighborhood"
   ]
  },
  {
   "cell_type": "code",
   "execution_count": 120,
   "metadata": {
    "collapsed": false
   },
   "outputs": [
    {
     "data": {
      "text/plain": [
       "691      Normal\n",
       "1182    Abnorml\n",
       "898     Partial\n",
       "1169     Normal\n",
       "1046    Partial\n",
       "769      Normal\n",
       "803     Partial\n",
       "527     Partial\n",
       "1142    Partial\n",
       "1373     Normal\n",
       "Name: SaleCondition, dtype: object"
      ]
     },
     "execution_count": 120,
     "metadata": {},
     "output_type": "execute_result"
    }
   ],
   "source": [
    "most_wrong.SaleCondition"
   ]
  },
  {
   "cell_type": "code",
   "execution_count": 122,
   "metadata": {
    "collapsed": false
   },
   "outputs": [
    {
     "data": {
      "text/plain": [
       "Normal     1198\n",
       "Partial     125\n",
       "Abnorml     101\n",
       "Family       20\n",
       "Alloca       12\n",
       "AdjLand       4\n",
       "Name: SaleCondition, dtype: int64"
      ]
     },
     "execution_count": 122,
     "metadata": {},
     "output_type": "execute_result"
    }
   ],
   "source": [
    "train.SaleCondition.value_counts()"
   ]
  },
  {
   "cell_type": "code",
   "execution_count": null,
   "metadata": {
    "collapsed": true
   },
   "outputs": [],
   "source": []
  }
 ],
 "metadata": {
  "kernelspec": {
   "display_name": "Python 3",
   "language": "python",
   "name": "python3"
  },
  "language_info": {
   "codemirror_mode": {
    "name": "ipython",
    "version": 3
   },
   "file_extension": ".py",
   "mimetype": "text/x-python",
   "name": "python",
   "nbconvert_exporter": "python",
   "pygments_lexer": "ipython3",
   "version": "3.6.0"
  }
 },
 "nbformat": 4,
 "nbformat_minor": 0
}
