{
 "cells": [
  {
   "cell_type": "code",
   "execution_count": 1,
   "metadata": {
    "collapsed": false
   },
   "outputs": [
    {
     "name": "stderr",
     "output_type": "stream",
     "text": [
      "/home/ryanryanadmin/anaconda3/lib/python3.6/site-packages/sklearn/cross_validation.py:44: DeprecationWarning: This module was deprecated in version 0.18 in favor of the model_selection module into which all the refactored classes and functions are moved. Also note that the interface of the new CV iterators are different from that of this module. This module will be removed in 0.20.\n",
      "  \"This module will be removed in 0.20.\", DeprecationWarning)\n"
     ]
    }
   ],
   "source": [
    "%matplotlib inline\n",
    "import numpy as np\n",
    "import matplotlib.pyplot as plt\n",
    "import pandas as pd\n",
    "import scipy.stats as stats\n",
    "from scipy.stats import skew\n",
    "import seaborn as sns\n",
    "import sklearn\n",
    "import warnings\n",
    "from sklearn.cross_validation import KFold\n",
    "from sklearn.preprocessing import PolynomialFeatures\n",
    "from sklearn.linear_model import Lasso\n",
    "from sklearn.linear_model import HuberRegressor"
   ]
  },
  {
   "cell_type": "code",
   "execution_count": 2,
   "metadata": {
    "collapsed": true
   },
   "outputs": [],
   "source": [
    "train_clean = pd.read_csv('train_clean.csv', dtype={'MSSubClass': str})  \n",
    "train = pd.read_csv('train.csv', dtype={'MSSubClass': str})"
   ]
  },
  {
   "cell_type": "markdown",
   "metadata": {},
   "source": [
    "Remove outlier records we previously identified as being harmful to the model"
   ]
  },
  {
   "cell_type": "code",
   "execution_count": 3,
   "metadata": {
    "collapsed": false
   },
   "outputs": [],
   "source": [
    "train_clean = train_clean[(train_clean.Id != 1299) & (train_clean.Id != 524)]"
   ]
  },
  {
   "cell_type": "code",
   "execution_count": 4,
   "metadata": {
    "collapsed": true
   },
   "outputs": [],
   "source": [
    "y_train = train_clean['SalePrice']\n",
    "train_clean = train_clean.drop(['SalePrice', 'Id'], axis=1)"
   ]
  },
  {
   "cell_type": "markdown",
   "metadata": {},
   "source": [
    "## Fit the model."
   ]
  },
  {
   "cell_type": "markdown",
   "metadata": {},
   "source": [
    "Run grid search to fit find the best shrinkage hyperparameter."
   ]
  },
  {
   "cell_type": "code",
   "execution_count": 5,
   "metadata": {
    "collapsed": false
   },
   "outputs": [
    {
     "name": "stderr",
     "output_type": "stream",
     "text": [
      "/home/ryanryanadmin/anaconda3/lib/python3.6/site-packages/sklearn/grid_search.py:43: DeprecationWarning: This module was deprecated in version 0.18 in favor of the model_selection module into which all the refactored classes and functions are moved. This module will be removed in 0.20.\n",
      "  DeprecationWarning)\n"
     ]
    }
   ],
   "source": [
    "from sklearn.grid_search import GridSearchCV\n",
    "from sklearn.model_selection import cross_val_score\n",
    "def runGSAndGetRMSE(est, params):\n",
    "    gs = GridSearchCV(est, param_grid= params, verbose=5, scoring='neg_mean_squared_error')\n",
    "    gs.fit(train_clean, y_train)\n",
    "    print(np.sqrt(gs.best_score_*-1))\n",
    "    print(gs.best_params_)\n",
    "    return gs.best_estimator_"
   ]
  },
  {
   "cell_type": "code",
   "execution_count": 7,
   "metadata": {
    "collapsed": false
   },
   "outputs": [
    {
     "name": "stdout",
     "output_type": "stream",
     "text": [
      "Fitting 3 folds for each of 4 candidates, totalling 12 fits\n",
      "[CV] epsilon=1 .......................................................\n",
      "[CV] ............................. epsilon=1, score=-0.013565 -   0.4s\n",
      "[CV] epsilon=1 .......................................................\n"
     ]
    },
    {
     "name": "stderr",
     "output_type": "stream",
     "text": [
      "[Parallel(n_jobs=1)]: Done   1 out of   1 | elapsed:    0.4s remaining:    0.0s\n"
     ]
    },
    {
     "name": "stdout",
     "output_type": "stream",
     "text": [
      "[CV] ............................. epsilon=1, score=-0.017544 -   0.2s\n",
      "[CV] epsilon=1 .......................................................\n"
     ]
    },
    {
     "name": "stderr",
     "output_type": "stream",
     "text": [
      "[Parallel(n_jobs=1)]: Done   2 out of   2 | elapsed:    0.6s remaining:    0.0s\n"
     ]
    },
    {
     "name": "stdout",
     "output_type": "stream",
     "text": [
      "[CV] ............................. epsilon=1, score=-0.013217 -   0.3s\n",
      "[CV] epsilon=1.35 ....................................................\n"
     ]
    },
    {
     "name": "stderr",
     "output_type": "stream",
     "text": [
      "[Parallel(n_jobs=1)]: Done   3 out of   3 | elapsed:    0.9s remaining:    0.0s\n"
     ]
    },
    {
     "name": "stdout",
     "output_type": "stream",
     "text": [
      "[CV] .......................... epsilon=1.35, score=-0.013443 -   0.3s\n",
      "[CV] epsilon=1.35 ....................................................\n"
     ]
    },
    {
     "name": "stderr",
     "output_type": "stream",
     "text": [
      "[Parallel(n_jobs=1)]: Done   4 out of   4 | elapsed:    1.2s remaining:    0.0s\n"
     ]
    },
    {
     "name": "stdout",
     "output_type": "stream",
     "text": [
      "[CV] .......................... epsilon=1.35, score=-0.017213 -   0.3s\n",
      "[CV] epsilon=1.35 ....................................................\n",
      "[CV] .......................... epsilon=1.35, score=-0.013135 -   0.3s\n",
      "[CV] epsilon=1.5 .....................................................\n",
      "[CV] ........................... epsilon=1.5, score=-0.013216 -   0.3s\n",
      "[CV] epsilon=1.5 .....................................................\n",
      "[CV] ........................... epsilon=1.5, score=-0.017125 -   0.3s\n",
      "[CV] epsilon=1.5 .....................................................\n",
      "[CV] ........................... epsilon=1.5, score=-0.013692 -   0.3s\n",
      "[CV] epsilon=1.75 ....................................................\n",
      "[CV] .......................... epsilon=1.75, score=-0.013298 -   0.3s\n",
      "[CV] epsilon=1.75 ....................................................\n",
      "[CV] .......................... epsilon=1.75, score=-0.017375 -   0.4s\n",
      "[CV] epsilon=1.75 ....................................................\n",
      "[CV] .......................... epsilon=1.75, score=-0.013317 -   0.4s\n"
     ]
    },
    {
     "name": "stderr",
     "output_type": "stream",
     "text": [
      "[Parallel(n_jobs=1)]: Done  12 out of  12 | elapsed:    3.9s finished\n"
     ]
    },
    {
     "name": "stdout",
     "output_type": "stream",
     "text": [
      "0.120817859954\n",
      "{'epsilon': 1.35}\n"
     ]
    }
   ],
   "source": [
    "hParams = {'epsilon': [1,1.35,1.5, 1.75]}\n",
    "bestH = runGSAndGetRMSE(HuberRegressor(), hParams)"
   ]
  },
  {
   "cell_type": "code",
   "execution_count": 8,
   "metadata": {
    "collapsed": false
   },
   "outputs": [
    {
     "name": "stdout",
     "output_type": "stream",
     "text": [
      "Fitting 3 folds for each of 3 candidates, totalling 9 fits\n",
      "[CV] epsilon=1.25 ....................................................\n",
      "[CV] .......................... epsilon=1.25, score=-0.013485 -   0.3s\n",
      "[CV] epsilon=1.25 ....................................................\n"
     ]
    },
    {
     "name": "stderr",
     "output_type": "stream",
     "text": [
      "[Parallel(n_jobs=1)]: Done   1 out of   1 | elapsed:    0.3s remaining:    0.0s\n"
     ]
    },
    {
     "name": "stdout",
     "output_type": "stream",
     "text": [
      "[CV] .......................... epsilon=1.25, score=-0.017310 -   0.3s\n",
      "[CV] epsilon=1.25 ....................................................\n"
     ]
    },
    {
     "name": "stderr",
     "output_type": "stream",
     "text": [
      "[Parallel(n_jobs=1)]: Done   2 out of   2 | elapsed:    0.6s remaining:    0.0s\n"
     ]
    },
    {
     "name": "stdout",
     "output_type": "stream",
     "text": [
      "[CV] .......................... epsilon=1.25, score=-0.012973 -   0.3s\n",
      "[CV] epsilon=1.35 ....................................................\n"
     ]
    },
    {
     "name": "stderr",
     "output_type": "stream",
     "text": [
      "[Parallel(n_jobs=1)]: Done   3 out of   3 | elapsed:    0.9s remaining:    0.0s\n"
     ]
    },
    {
     "name": "stdout",
     "output_type": "stream",
     "text": [
      "[CV] .......................... epsilon=1.35, score=-0.013443 -   0.3s\n",
      "[CV] epsilon=1.35 ....................................................\n"
     ]
    },
    {
     "name": "stderr",
     "output_type": "stream",
     "text": [
      "[Parallel(n_jobs=1)]: Done   4 out of   4 | elapsed:    1.2s remaining:    0.0s\n"
     ]
    },
    {
     "name": "stdout",
     "output_type": "stream",
     "text": [
      "[CV] .......................... epsilon=1.35, score=-0.017213 -   0.3s\n",
      "[CV] epsilon=1.35 ....................................................\n",
      "[CV] .......................... epsilon=1.35, score=-0.013135 -   0.3s\n",
      "[CV] epsilon=1.45 ....................................................\n",
      "[CV] .......................... epsilon=1.45, score=-0.013451 -   0.5s\n",
      "[CV] epsilon=1.45 ....................................................\n",
      "[CV] .......................... epsilon=1.45, score=-0.017234 -   0.5s\n",
      "[CV] epsilon=1.45 ....................................................\n",
      "[CV] .......................... epsilon=1.45, score=-0.013900 -   0.3s\n"
     ]
    },
    {
     "name": "stderr",
     "output_type": "stream",
     "text": [
      "[Parallel(n_jobs=1)]: Done   9 out of   9 | elapsed:    3.0s finished\n"
     ]
    },
    {
     "name": "stdout",
     "output_type": "stream",
     "text": [
      "0.12078557351\n",
      "{'epsilon': 1.25}\n"
     ]
    }
   ],
   "source": [
    "hParams = {'epsilon': [1.25,1.35,1.45]}\n",
    "bestH = runGSAndGetRMSE(HuberRegressor(), hParams)"
   ]
  },
  {
   "cell_type": "code",
   "execution_count": 9,
   "metadata": {
    "collapsed": false
   },
   "outputs": [
    {
     "name": "stdout",
     "output_type": "stream",
     "text": [
      "Fitting 3 folds for each of 3 candidates, totalling 9 fits\n",
      "[CV] epsilon=1.15 ....................................................\n",
      "[CV] .......................... epsilon=1.15, score=-0.013496 -   0.3s\n",
      "[CV] epsilon=1.15 ....................................................\n"
     ]
    },
    {
     "name": "stderr",
     "output_type": "stream",
     "text": [
      "[Parallel(n_jobs=1)]: Done   1 out of   1 | elapsed:    0.3s remaining:    0.0s\n"
     ]
    },
    {
     "name": "stdout",
     "output_type": "stream",
     "text": [
      "[CV] .......................... epsilon=1.15, score=-0.017788 -   0.3s\n",
      "[CV] epsilon=1.15 ....................................................\n"
     ]
    },
    {
     "name": "stderr",
     "output_type": "stream",
     "text": [
      "[Parallel(n_jobs=1)]: Done   2 out of   2 | elapsed:    0.6s remaining:    0.0s\n"
     ]
    },
    {
     "name": "stdout",
     "output_type": "stream",
     "text": [
      "[CV] .......................... epsilon=1.15, score=-0.013110 -   0.3s\n",
      "[CV] epsilon=1.25 ....................................................\n"
     ]
    },
    {
     "name": "stderr",
     "output_type": "stream",
     "text": [
      "[Parallel(n_jobs=1)]: Done   3 out of   3 | elapsed:    0.8s remaining:    0.0s\n"
     ]
    },
    {
     "name": "stdout",
     "output_type": "stream",
     "text": [
      "[CV] .......................... epsilon=1.25, score=-0.013485 -   0.3s\n",
      "[CV] epsilon=1.25 ....................................................\n"
     ]
    },
    {
     "name": "stderr",
     "output_type": "stream",
     "text": [
      "[Parallel(n_jobs=1)]: Done   4 out of   4 | elapsed:    1.1s remaining:    0.0s\n"
     ]
    },
    {
     "name": "stdout",
     "output_type": "stream",
     "text": [
      "[CV] .......................... epsilon=1.25, score=-0.017310 -   0.3s\n",
      "[CV] epsilon=1.25 ....................................................\n",
      "[CV] .......................... epsilon=1.25, score=-0.012973 -   0.3s\n",
      "[CV] epsilon=1.3 .....................................................\n",
      "[CV] ........................... epsilon=1.3, score=-0.013663 -   0.3s\n",
      "[CV] epsilon=1.3 .....................................................\n",
      "[CV] ........................... epsilon=1.3, score=-0.017287 -   0.3s\n",
      "[CV] epsilon=1.3 .....................................................\n",
      "[CV] ........................... epsilon=1.3, score=-0.013302 -   0.5s\n"
     ]
    },
    {
     "name": "stderr",
     "output_type": "stream",
     "text": [
      "[Parallel(n_jobs=1)]: Done   9 out of   9 | elapsed:    2.7s finished\n"
     ]
    },
    {
     "name": "stdout",
     "output_type": "stream",
     "text": [
      "0.12078557351\n",
      "{'epsilon': 1.25}\n"
     ]
    }
   ],
   "source": [
    "hParams = {'epsilon': [1.15,1.25,1.30]}\n",
    "bestH = runGSAndGetRMSE(HuberRegressor(), hParams)"
   ]
  }
 ],
 "metadata": {
  "kernelspec": {
   "display_name": "Python 3",
   "language": "python",
   "name": "python3"
  },
  "language_info": {
   "codemirror_mode": {
    "name": "ipython",
    "version": 3
   },
   "file_extension": ".py",
   "mimetype": "text/x-python",
   "name": "python",
   "nbconvert_exporter": "python",
   "pygments_lexer": "ipython3",
   "version": "3.6.0"
  }
 },
 "nbformat": 4,
 "nbformat_minor": 0
}
