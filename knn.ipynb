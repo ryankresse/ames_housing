{
 "cells": [
  {
   "cell_type": "code",
   "execution_count": 1,
   "metadata": {
    "collapsed": false
   },
   "outputs": [
    {
     "name": "stderr",
     "output_type": "stream",
     "text": [
      "/home/ryanryanadmin/anaconda3/lib/python3.6/site-packages/sklearn/cross_validation.py:44: DeprecationWarning: This module was deprecated in version 0.18 in favor of the model_selection module into which all the refactored classes and functions are moved. Also note that the interface of the new CV iterators are different from that of this module. This module will be removed in 0.20.\n",
      "  \"This module will be removed in 0.20.\", DeprecationWarning)\n"
     ]
    }
   ],
   "source": [
    "%matplotlib inline\n",
    "import numpy as np\n",
    "import matplotlib.pyplot as plt\n",
    "import pandas as pd\n",
    "import scipy.stats as stats\n",
    "from scipy.stats import skew\n",
    "import seaborn as sns\n",
    "import sklearn\n",
    "import warnings\n",
    "from sklearn.cross_validation import KFold\n",
    "from sklearn.preprocessing import PolynomialFeatures\n",
    "from sklearn.linear_model import Lasso"
   ]
  },
  {
   "cell_type": "code",
   "execution_count": 8,
   "metadata": {
    "collapsed": true
   },
   "outputs": [],
   "source": [
    "train_clean = pd.read_csv('train_clean.csv', dtype={'MSSubClass': str})  \n",
    "train = pd.read_csv('train.csv', dtype={'MSSubClass': str})"
   ]
  },
  {
   "cell_type": "markdown",
   "metadata": {},
   "source": [
    "Remove outlier records we previously identified as being harmful to the model"
   ]
  },
  {
   "cell_type": "code",
   "execution_count": 9,
   "metadata": {
    "collapsed": false
   },
   "outputs": [],
   "source": [
    "train_clean = train_clean[(train_clean.Id != 1299) & (train_clean.Id != 524)]"
   ]
  },
  {
   "cell_type": "code",
   "execution_count": 10,
   "metadata": {
    "collapsed": true
   },
   "outputs": [],
   "source": [
    "y_train = train_clean['SalePrice']\n",
    "train_clean = train_clean.drop(['SalePrice', 'Id'], axis=1)"
   ]
  },
  {
   "cell_type": "markdown",
   "metadata": {},
   "source": [
    "## Fit the model."
   ]
  },
  {
   "cell_type": "markdown",
   "metadata": {},
   "source": [
    "Run grid search to fit find the best shrinkage hyperparameter."
   ]
  },
  {
   "cell_type": "code",
   "execution_count": 11,
   "metadata": {
    "collapsed": false
   },
   "outputs": [],
   "source": [
    "from sklearn.grid_search import GridSearchCV\n",
    "from sklearn.model_selection import cross_val_score\n",
    "def runGSAndGetRMSE(est, params):\n",
    "    gs = GridSearchCV(est, param_grid= params, verbose=5, scoring='neg_mean_squared_error')\n",
    "    gs.fit(train_clean, y_train)\n",
    "    print(np.sqrt(gs.best_score_*-1))\n",
    "    print(gs.best_params_)\n",
    "    return gs.best_estimator_"
   ]
  },
  {
   "cell_type": "code",
   "execution_count": 12,
   "metadata": {
    "collapsed": false
   },
   "outputs": [
    {
     "name": "stdout",
     "output_type": "stream",
     "text": [
      "Fitting 3 folds for each of 4 candidates, totalling 12 fits\n",
      "[CV] n_neighbors=2 ...................................................\n",
      "[CV] ......................... n_neighbors=2, score=-0.037384 -   0.4s\n",
      "[CV] n_neighbors=2 ...................................................\n"
     ]
    },
    {
     "name": "stderr",
     "output_type": "stream",
     "text": [
      "[Parallel(n_jobs=1)]: Done   1 out of   1 | elapsed:    0.4s remaining:    0.0s\n"
     ]
    },
    {
     "name": "stdout",
     "output_type": "stream",
     "text": [
      "[CV] ......................... n_neighbors=2, score=-0.036927 -   0.4s\n",
      "[CV] n_neighbors=2 ...................................................\n"
     ]
    },
    {
     "name": "stderr",
     "output_type": "stream",
     "text": [
      "[Parallel(n_jobs=1)]: Done   2 out of   2 | elapsed:    0.7s remaining:    0.0s\n"
     ]
    },
    {
     "name": "stdout",
     "output_type": "stream",
     "text": [
      "[CV] ......................... n_neighbors=2, score=-0.033467 -   0.4s\n",
      "[CV] n_neighbors=4 ...................................................\n"
     ]
    },
    {
     "name": "stderr",
     "output_type": "stream",
     "text": [
      "[Parallel(n_jobs=1)]: Done   3 out of   3 | elapsed:    1.1s remaining:    0.0s\n"
     ]
    },
    {
     "name": "stdout",
     "output_type": "stream",
     "text": [
      "[CV] ......................... n_neighbors=4, score=-0.032428 -   0.4s\n",
      "[CV] n_neighbors=4 ...................................................\n"
     ]
    },
    {
     "name": "stderr",
     "output_type": "stream",
     "text": [
      "[Parallel(n_jobs=1)]: Done   4 out of   4 | elapsed:    1.4s remaining:    0.0s\n"
     ]
    },
    {
     "name": "stdout",
     "output_type": "stream",
     "text": [
      "[CV] ......................... n_neighbors=4, score=-0.033531 -   0.4s\n",
      "[CV] n_neighbors=4 ...................................................\n",
      "[CV] ......................... n_neighbors=4, score=-0.030521 -   0.4s\n",
      "[CV] n_neighbors=6 ...................................................\n",
      "[CV] ......................... n_neighbors=6, score=-0.031423 -   0.4s\n",
      "[CV] n_neighbors=6 ...................................................\n",
      "[CV] ......................... n_neighbors=6, score=-0.034703 -   0.4s\n",
      "[CV] n_neighbors=6 ...................................................\n",
      "[CV] ......................... n_neighbors=6, score=-0.029040 -   0.4s\n",
      "[CV] n_neighbors=8 ...................................................\n",
      "[CV] ......................... n_neighbors=8, score=-0.031048 -   0.4s\n",
      "[CV] n_neighbors=8 ...................................................\n",
      "[CV] ......................... n_neighbors=8, score=-0.034724 -   0.5s\n",
      "[CV] n_neighbors=8 ...................................................\n",
      "[CV] ......................... n_neighbors=8, score=-0.027373 -   0.4s\n",
      "0.176204715497\n",
      "{'n_neighbors': 8}\n"
     ]
    },
    {
     "name": "stderr",
     "output_type": "stream",
     "text": [
      "[Parallel(n_jobs=1)]: Done  12 out of  12 | elapsed:    4.5s finished\n"
     ]
    }
   ],
   "source": [
    "from sklearn.neighbors import KNeighborsRegressor\n",
    "knnParams = {'n_neighbors': list(np.arange(2,10,2))}\n",
    "bestLassoEst = runGSAndGetRMSE(KNeighborsRegressor(), knnParams)"
   ]
  },
  {
   "cell_type": "code",
   "execution_count": 13,
   "metadata": {
    "collapsed": false
   },
   "outputs": [
    {
     "name": "stdout",
     "output_type": "stream",
     "text": [
      "Fitting 3 folds for each of 3 candidates, totalling 9 fits\n",
      "[CV] n_neighbors=7 ...................................................\n",
      "[CV] ......................... n_neighbors=7, score=-0.031356 -   0.4s\n",
      "[CV] n_neighbors=7 ...................................................\n"
     ]
    },
    {
     "name": "stderr",
     "output_type": "stream",
     "text": [
      "[Parallel(n_jobs=1)]: Done   1 out of   1 | elapsed:    0.4s remaining:    0.0s\n"
     ]
    },
    {
     "name": "stdout",
     "output_type": "stream",
     "text": [
      "[CV] ......................... n_neighbors=7, score=-0.034399 -   0.4s\n",
      "[CV] n_neighbors=7 ...................................................\n"
     ]
    },
    {
     "name": "stderr",
     "output_type": "stream",
     "text": [
      "[Parallel(n_jobs=1)]: Done   2 out of   2 | elapsed:    0.7s remaining:    0.0s\n"
     ]
    },
    {
     "name": "stdout",
     "output_type": "stream",
     "text": [
      "[CV] ......................... n_neighbors=7, score=-0.027932 -   0.4s\n",
      "[CV] n_neighbors=8 ...................................................\n"
     ]
    },
    {
     "name": "stderr",
     "output_type": "stream",
     "text": [
      "[Parallel(n_jobs=1)]: Done   3 out of   3 | elapsed:    1.1s remaining:    0.0s\n"
     ]
    },
    {
     "name": "stdout",
     "output_type": "stream",
     "text": [
      "[CV] ......................... n_neighbors=8, score=-0.031048 -   0.4s\n",
      "[CV] n_neighbors=8 ...................................................\n"
     ]
    },
    {
     "name": "stderr",
     "output_type": "stream",
     "text": [
      "[Parallel(n_jobs=1)]: Done   4 out of   4 | elapsed:    1.5s remaining:    0.0s\n"
     ]
    },
    {
     "name": "stdout",
     "output_type": "stream",
     "text": [
      "[CV] ......................... n_neighbors=8, score=-0.034724 -   0.4s\n",
      "[CV] n_neighbors=8 ...................................................\n",
      "[CV] ......................... n_neighbors=8, score=-0.027373 -   0.4s\n",
      "[CV] n_neighbors=9 ...................................................\n",
      "[CV] ......................... n_neighbors=9, score=-0.031635 -   0.4s\n",
      "[CV] n_neighbors=9 ...................................................\n",
      "[CV] ......................... n_neighbors=9, score=-0.035018 -   0.4s\n",
      "[CV] n_neighbors=9 ...................................................\n",
      "[CV] ......................... n_neighbors=9, score=-0.027372 -   0.4s\n",
      "0.176204715497\n",
      "{'n_neighbors': 8}\n"
     ]
    },
    {
     "name": "stderr",
     "output_type": "stream",
     "text": [
      "[Parallel(n_jobs=1)]: Done   9 out of   9 | elapsed:    3.3s finished\n"
     ]
    }
   ],
   "source": [
    "from sklearn.neighbors import KNeighborsRegressor\n",
    "knnParams = {'n_neighbors': [7,8,9]}\n",
    "bestLassoEst = runGSAndGetRMSE(KNeighborsRegressor(), knnParams)"
   ]
  },
  {
   "cell_type": "code",
   "execution_count": null,
   "metadata": {
    "collapsed": true
   },
   "outputs": [],
   "source": []
  }
 ],
 "metadata": {
  "kernelspec": {
   "display_name": "Python 3",
   "language": "python",
   "name": "python3"
  },
  "language_info": {
   "codemirror_mode": {
    "name": "ipython",
    "version": 3
   },
   "file_extension": ".py",
   "mimetype": "text/x-python",
   "name": "python",
   "nbconvert_exporter": "python",
   "pygments_lexer": "ipython3",
   "version": "3.6.0"
  }
 },
 "nbformat": 4,
 "nbformat_minor": 0
}
