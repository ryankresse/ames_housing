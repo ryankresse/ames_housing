{
 "cells": [
  {
   "cell_type": "code",
   "execution_count": 13,
   "metadata": {
    "collapsed": true
   },
   "outputs": [],
   "source": [
    "%matplotlib inline\n",
    "import numpy as np\n",
    "import matplotlib.pyplot as plt\n",
    "import pandas as pd\n",
    "import scipy.stats as stats\n",
    "from scipy.stats import skew\n",
    "from sklearn.preprocessing import StandardScaler\n",
    "\n",
    "import seaborn as sns\n",
    "import sklearn\n",
    "import warnings\n",
    "np.random.seed(17)"
   ]
  },
  {
   "cell_type": "code",
   "execution_count": 6,
   "metadata": {
    "collapsed": true
   },
   "outputs": [],
   "source": [
    "train = pd.read_csv('input/train.csv', dtype={'MSSubClass': str})  \n",
    "test = pd.read_csv('input/test.csv', dtype={'MSSubClass': str})\n",
    "\n",
    "all_data = pd.concat([train,\n",
    "                      test])\n"
   ]
  },
  {
   "cell_type": "markdown",
   "metadata": {},
   "source": [
    "## Prepare the data."
   ]
  },
  {
   "cell_type": "markdown",
   "metadata": {},
   "source": [
    "Guided by the [description of data][1], we'll fill missing data with one of three values: 0, the most common value of the feature, or 'None'.\n",
    "\n",
    "Then, with the exception of SalePrice, Id and YrSold, we'll log transform skewed numeric features and standardize all numeric features.\n",
    " \n",
    "Finally, we log transform SalePrice.\n",
    "\n",
    "Log transform ideas borrowed from this [kernel.][2] \n",
    "\n",
    "\n",
    "\n",
    "[2]: https://www.kaggle.com/apapiu/house-prices-advanced-regression-techniques/regularized-linear-models\n",
    "\n",
    "\n",
    "[1]: https://storage.googleapis.com/kaggle-competitions-data/kaggle/5407/data_description.txt?GoogleAccessId=web-data@kaggle-161607.iam.gserviceaccount.com&Expires=1523572243&Signature=OZ5ssnLZ1t27FS3gQlpMpqa8vQlosxvBN9%2BULQSKxdPPeoQ1ajN9zqAbJWVCsJ5qrGDFR%2BMnKmri5oH8kSgTTqtgK4LfKk%2BSbV%2FoQxe37QtVsNrNQOrj5%2BX6KN%2FopA2R51FhlhN9SiNOrc%2B94kyX7IB2vnb1%2FpIkhsoQHMkeftwEeEuC5T49Oz%2FU9DJkmObAObMxryYR%2BWtjGP6PaNJ8EaDRwM5zGHoVt3DlmI8Epq%2BIltEe8AFtFO0zvpjmKbef10BCo75ceNZaYYH4Fy2FZ94tGbNf9BeskTtRtchC5NmlL1XfMJ57IkgVUQLJKWyISx9kGlnLneb6IIbwQwZGsA%3D%3D"
   ]
  },
  {
   "cell_type": "code",
   "execution_count": 7,
   "metadata": {
    "collapsed": true
   },
   "outputs": [],
   "source": [
    "fill_with_zero = [ \n",
    "    'LotFrontage',\n",
    "    'MasVnrArea',\n",
    "    'GarageCars',\n",
    "    'TotalBsmtSF',\n",
    "    'BsmtFullBath',\n",
    "    'BsmtHalfBath',\n",
    "    'BsmtFinSF1', \n",
    "    'BsmtFinSF2',\n",
    "    'BsmtUnfSF',\n",
    "    'GarageArea'\n",
    "  ]\n",
    "\n",
    "fill_with_most_common = [\n",
    "    'Electrical'\n",
    "]\n",
    "\n",
    "fill_with_none = [\n",
    "    'FireplaceQu',      \n",
    "    'GarageType',   \n",
    "    'GarageYrBlt',      \n",
    "    'GarageFinish',     \n",
    "    'GarageQual',       \n",
    "    'GarageCond',       \n",
    "    'PoolQC',          \n",
    "    'Fence',\n",
    "    'MiscFeature', \n",
    "    'BsmtQual',   \n",
    "    'BsmtCond',          \n",
    "    'BsmtExposure',      \n",
    "    'BsmtFinType1',      \n",
    "    'BsmtFinType2',\n",
    "    'MasVnrType',\n",
    "    'Alley'\n",
    "]\n",
    "\n",
    "sc = StandardScaler()\n",
    "\n",
    "def prepData(df, unskew=False):\n",
    "    dfForModel = df.copy()\n",
    "    \n",
    "    for col in fill_with_zero:\n",
    "        dfForModel[col] = dfForModel[col].fillna(0)\n",
    "    \n",
    "    for col in fill_with_none:\n",
    "        dfForModel[col] = dfForModel[col].fillna('None')\n",
    "    \n",
    "    for col in fill_with_most_common:\n",
    "        dfForModel[col] = dfForModel[col].fillna(train[col].value_counts().index[0])\n",
    "        \n",
    "    \n",
    "    \n",
    "    numeric_feats = dfForModel.dtypes[dfForModel.dtypes != 'object'].index\n",
    "    numeric_feats = [feat for feat in numeric_feats if feat != 'SalePrice' and feat !='Id' and feat !='YrSold']\n",
    "    if unskew:\n",
    "        skewed_feats = train[numeric_feats].apply(lambda x: skew(x.dropna()))\n",
    "        skewed_feats = skewed_feats[skewed_feats > 0.75]\n",
    "        skewed_feats = skewed_feats.index\n",
    "        dfForModel[skewed_feats] = np.log1p(dfForModel[skewed_feats])\n",
    "    \n",
    "    sc = StandardScaler()\n",
    "    #only fit scaler on train set\n",
    "    sc.fit(dfForModel[numeric_feats].iloc[:train.shape[0],:])\n",
    "    dfForModel[numeric_feats] = sc.transform(dfForModel[numeric_feats])\n",
    "    \n",
    "    \n",
    "    dfForModel[\"SalePrice\"] = np.log1p(dfForModel[\"SalePrice\"])\n",
    "    return pd.get_dummies(dfForModel)"
   ]
  },
  {
   "cell_type": "code",
   "execution_count": 8,
   "metadata": {
    "collapsed": false,
    "scrolled": false
   },
   "outputs": [
    {
     "data": {
      "text/plain": [
       "(1460, 421)"
      ]
     },
     "execution_count": 8,
     "metadata": {},
     "output_type": "execute_result"
    }
   ],
   "source": [
    "all_data_prepped = prepData(all_data, unskew=True)\n",
    "\n",
    "X_train = all_data_prepped[:train.shape[0]].drop('SalePrice', axis=1)\n",
    "X_test = all_data_prepped[train.shape[0]:].drop('SalePrice', axis=1)\n",
    "y = all_data_prepped[:train.shape[0]].SalePrice\n",
    "X_train.shape"
   ]
  },
  {
   "cell_type": "code",
   "execution_count": 9,
   "metadata": {
    "collapsed": false
   },
   "outputs": [
    {
     "data": {
      "text/html": [
       "<div>\n",
       "<style scoped>\n",
       "    .dataframe tbody tr th:only-of-type {\n",
       "        vertical-align: middle;\n",
       "    }\n",
       "\n",
       "    .dataframe tbody tr th {\n",
       "        vertical-align: top;\n",
       "    }\n",
       "\n",
       "    .dataframe thead th {\n",
       "        text-align: right;\n",
       "    }\n",
       "</style>\n",
       "<table border=\"1\" class=\"dataframe\">\n",
       "  <thead>\n",
       "    <tr style=\"text-align: right;\">\n",
       "      <th></th>\n",
       "      <th>1stFlrSF</th>\n",
       "      <th>2ndFlrSF</th>\n",
       "      <th>3SsnPorch</th>\n",
       "      <th>BedroomAbvGr</th>\n",
       "      <th>BsmtFinSF1</th>\n",
       "      <th>BsmtFinSF2</th>\n",
       "      <th>BsmtFullBath</th>\n",
       "      <th>BsmtHalfBath</th>\n",
       "      <th>BsmtUnfSF</th>\n",
       "      <th>EnclosedPorch</th>\n",
       "      <th>...</th>\n",
       "      <th>SaleType_ConLD</th>\n",
       "      <th>SaleType_ConLI</th>\n",
       "      <th>SaleType_ConLw</th>\n",
       "      <th>SaleType_New</th>\n",
       "      <th>SaleType_Oth</th>\n",
       "      <th>SaleType_WD</th>\n",
       "      <th>Street_Grvl</th>\n",
       "      <th>Street_Pave</th>\n",
       "      <th>Utilities_AllPub</th>\n",
       "      <th>Utilities_NoSeWa</th>\n",
       "    </tr>\n",
       "  </thead>\n",
       "  <tbody>\n",
       "    <tr>\n",
       "      <th>0</th>\n",
       "      <td>-0.803645</td>\n",
       "      <td>1.180528</td>\n",
       "      <td>-0.128521</td>\n",
       "      <td>0.163779</td>\n",
       "      <td>0.779431</td>\n",
       "      <td>-0.355342</td>\n",
       "      <td>1.107810</td>\n",
       "      <td>-0.242923</td>\n",
       "      <td>-0.340511</td>\n",
       "      <td>-0.404244</td>\n",
       "      <td>...</td>\n",
       "      <td>0</td>\n",
       "      <td>0</td>\n",
       "      <td>0</td>\n",
       "      <td>0</td>\n",
       "      <td>0</td>\n",
       "      <td>1</td>\n",
       "      <td>0</td>\n",
       "      <td>1</td>\n",
       "      <td>1</td>\n",
       "      <td>0</td>\n",
       "    </tr>\n",
       "    <tr>\n",
       "      <th>1</th>\n",
       "      <td>0.418479</td>\n",
       "      <td>-0.870117</td>\n",
       "      <td>-0.128521</td>\n",
       "      <td>0.163779</td>\n",
       "      <td>0.888257</td>\n",
       "      <td>-0.355342</td>\n",
       "      <td>-0.819964</td>\n",
       "      <td>4.021453</td>\n",
       "      <td>0.002218</td>\n",
       "      <td>-0.404244</td>\n",
       "      <td>...</td>\n",
       "      <td>0</td>\n",
       "      <td>0</td>\n",
       "      <td>0</td>\n",
       "      <td>0</td>\n",
       "      <td>0</td>\n",
       "      <td>1</td>\n",
       "      <td>0</td>\n",
       "      <td>1</td>\n",
       "      <td>1</td>\n",
       "      <td>0</td>\n",
       "    </tr>\n",
       "    <tr>\n",
       "      <th>2</th>\n",
       "      <td>-0.576677</td>\n",
       "      <td>1.184762</td>\n",
       "      <td>-0.128521</td>\n",
       "      <td>0.163779</td>\n",
       "      <td>0.654803</td>\n",
       "      <td>-0.355342</td>\n",
       "      <td>1.107810</td>\n",
       "      <td>-0.242923</td>\n",
       "      <td>0.230372</td>\n",
       "      <td>-0.404244</td>\n",
       "      <td>...</td>\n",
       "      <td>0</td>\n",
       "      <td>0</td>\n",
       "      <td>0</td>\n",
       "      <td>0</td>\n",
       "      <td>0</td>\n",
       "      <td>1</td>\n",
       "      <td>0</td>\n",
       "      <td>1</td>\n",
       "      <td>1</td>\n",
       "      <td>0</td>\n",
       "    </tr>\n",
       "    <tr>\n",
       "      <th>3</th>\n",
       "      <td>-0.439421</td>\n",
       "      <td>1.143550</td>\n",
       "      <td>-0.128521</td>\n",
       "      <td>0.163779</td>\n",
       "      <td>0.384539</td>\n",
       "      <td>-0.355342</td>\n",
       "      <td>1.107810</td>\n",
       "      <td>-0.242923</td>\n",
       "      <td>0.348034</td>\n",
       "      <td>2.844374</td>\n",
       "      <td>...</td>\n",
       "      <td>0</td>\n",
       "      <td>0</td>\n",
       "      <td>0</td>\n",
       "      <td>0</td>\n",
       "      <td>0</td>\n",
       "      <td>1</td>\n",
       "      <td>0</td>\n",
       "      <td>1</td>\n",
       "      <td>1</td>\n",
       "      <td>0</td>\n",
       "    </tr>\n",
       "    <tr>\n",
       "      <th>4</th>\n",
       "      <td>0.112127</td>\n",
       "      <td>1.244087</td>\n",
       "      <td>-0.128521</td>\n",
       "      <td>1.390023</td>\n",
       "      <td>0.754400</td>\n",
       "      <td>-0.355342</td>\n",
       "      <td>1.107810</td>\n",
       "      <td>-0.242923</td>\n",
       "      <td>0.295711</td>\n",
       "      <td>-0.404244</td>\n",
       "      <td>...</td>\n",
       "      <td>0</td>\n",
       "      <td>0</td>\n",
       "      <td>0</td>\n",
       "      <td>0</td>\n",
       "      <td>0</td>\n",
       "      <td>1</td>\n",
       "      <td>0</td>\n",
       "      <td>1</td>\n",
       "      <td>1</td>\n",
       "      <td>0</td>\n",
       "    </tr>\n",
       "  </tbody>\n",
       "</table>\n",
       "<p>5 rows × 422 columns</p>\n",
       "</div>"
      ],
      "text/plain": [
       "   1stFlrSF  2ndFlrSF  3SsnPorch  BedroomAbvGr  BsmtFinSF1  BsmtFinSF2  \\\n",
       "0 -0.803645  1.180528  -0.128521      0.163779    0.779431   -0.355342   \n",
       "1  0.418479 -0.870117  -0.128521      0.163779    0.888257   -0.355342   \n",
       "2 -0.576677  1.184762  -0.128521      0.163779    0.654803   -0.355342   \n",
       "3 -0.439421  1.143550  -0.128521      0.163779    0.384539   -0.355342   \n",
       "4  0.112127  1.244087  -0.128521      1.390023    0.754400   -0.355342   \n",
       "\n",
       "   BsmtFullBath  BsmtHalfBath  BsmtUnfSF  EnclosedPorch        ...         \\\n",
       "0      1.107810     -0.242923  -0.340511      -0.404244        ...          \n",
       "1     -0.819964      4.021453   0.002218      -0.404244        ...          \n",
       "2      1.107810     -0.242923   0.230372      -0.404244        ...          \n",
       "3      1.107810     -0.242923   0.348034       2.844374        ...          \n",
       "4      1.107810     -0.242923   0.295711      -0.404244        ...          \n",
       "\n",
       "   SaleType_ConLD  SaleType_ConLI  SaleType_ConLw  SaleType_New  SaleType_Oth  \\\n",
       "0               0               0               0             0             0   \n",
       "1               0               0               0             0             0   \n",
       "2               0               0               0             0             0   \n",
       "3               0               0               0             0             0   \n",
       "4               0               0               0             0             0   \n",
       "\n",
       "   SaleType_WD  Street_Grvl  Street_Pave  Utilities_AllPub  Utilities_NoSeWa  \n",
       "0            1            0            1                 1                 0  \n",
       "1            1            0            1                 1                 0  \n",
       "2            1            0            1                 1                 0  \n",
       "3            1            0            1                 1                 0  \n",
       "4            1            0            1                 1                 0  \n",
       "\n",
       "[5 rows x 422 columns]"
      ]
     },
     "execution_count": 9,
     "metadata": {},
     "output_type": "execute_result"
    }
   ],
   "source": [
    "all_data_prepped.head()"
   ]
  },
  {
   "cell_type": "markdown",
   "metadata": {},
   "source": [
    "Save the cleaned data so we don't have to do that again. "
   ]
  },
  {
   "cell_type": "code",
   "execution_count": 10,
   "metadata": {
    "collapsed": true
   },
   "outputs": [],
   "source": [
    "train_clean = all_data_prepped[:train.shape[0]]\n",
    "X_test.to_csv('test_clean.csv', index=False)\n",
    "train_clean.to_csv('train_clean.csv', index=False)"
   ]
  },
  {
   "cell_type": "markdown",
   "metadata": {},
   "source": [
    "## Fit some models."
   ]
  },
  {
   "cell_type": "markdown",
   "metadata": {},
   "source": [
    "We'll try three different linear models: ridge regression, elastic net and lasso. Below is a function to help fit the models and tune their regularization hyperparameters."
   ]
  },
  {
   "cell_type": "code",
   "execution_count": 21,
   "metadata": {
    "collapsed": true
   },
   "outputs": [],
   "source": [
    "from sklearn.model_selection import GridSearchCV\n",
    "from sklearn.model_selection import cross_val_score\n",
    "\n",
    "def runGSAndGetRMSE(est, params):\n",
    "    gs = GridSearchCV(est, param_grid= params, verbose=5, scoring='neg_mean_squared_error')\n",
    "    gs.fit(X_train, y)\n",
    "    print(np.sqrt(gs.best_score_*-1))\n",
    "    print(gs.best_params_)\n",
    "    return gs.best_estimator_"
   ]
  },
  {
   "cell_type": "markdown",
   "metadata": {},
   "source": [
    "### Ridge Regression"
   ]
  },
  {
   "cell_type": "code",
   "execution_count": 22,
   "metadata": {
    "collapsed": false
   },
   "outputs": [
    {
     "name": "stdout",
     "output_type": "stream",
     "text": [
      "Fitting 3 folds for each of 8 candidates, totalling 24 fits\n",
      "[CV] alpha=0.0001 ....................................................\n",
      "[CV] ........ alpha=0.0001, score=-0.024312903352602146, total=   0.1s\n",
      "[CV] alpha=0.0001 ....................................................\n",
      "[CV] ......... alpha=0.0001, score=-0.03242092592510118, total=   0.0s\n",
      "[CV] alpha=0.0001 ....................................................\n",
      "[CV] ......... alpha=0.0001, score=-0.02333124287351338, total=   0.0s\n",
      "[CV] alpha=0.001 .....................................................\n",
      "[CV] .......... alpha=0.001, score=-0.02426378262918538, total=   0.0s\n",
      "[CV] alpha=0.001 .....................................................\n",
      "[CV] ......... alpha=0.001, score=-0.026710901258341215, total=   0.0s\n",
      "[CV] alpha=0.001 .....................................................\n"
     ]
    },
    {
     "name": "stderr",
     "output_type": "stream",
     "text": [
      "[Parallel(n_jobs=1)]: Done   1 out of   1 | elapsed:    0.1s remaining:    0.0s\n",
      "[Parallel(n_jobs=1)]: Done   2 out of   2 | elapsed:    0.1s remaining:    0.0s\n",
      "[Parallel(n_jobs=1)]: Done   3 out of   3 | elapsed:    0.1s remaining:    0.0s\n",
      "[Parallel(n_jobs=1)]: Done   4 out of   4 | elapsed:    0.2s remaining:    0.0s\n"
     ]
    },
    {
     "name": "stdout",
     "output_type": "stream",
     "text": [
      "[CV] .......... alpha=0.001, score=-0.02331475531757934, total=   0.1s\n",
      "[CV] alpha=0.01 ......................................................\n",
      "[CV] .......... alpha=0.01, score=-0.023123493874415972, total=   0.0s\n",
      "[CV] alpha=0.01 ......................................................\n",
      "[CV] .......... alpha=0.01, score=-0.025042926176493417, total=   0.0s\n",
      "[CV] alpha=0.01 ......................................................\n",
      "[CV] .......... alpha=0.01, score=-0.023163386688494044, total=   0.0s\n",
      "[CV] alpha=0.1 .......................................................\n",
      "[CV] ........... alpha=0.1, score=-0.018465990191087953, total=   0.0s\n",
      "[CV] alpha=0.1 .......................................................\n",
      "[CV] ........... alpha=0.1, score=-0.023059080002232377, total=   0.0s\n",
      "[CV] alpha=0.1 .......................................................\n",
      "[CV] ............ alpha=0.1, score=-0.02221677805690469, total=   0.0s\n",
      "[CV] alpha=1 .........................................................\n",
      "[CV] ............. alpha=1, score=-0.014870453410118261, total=   0.0s\n",
      "[CV] alpha=1 .........................................................\n",
      "[CV] .............. alpha=1, score=-0.01984128309182274, total=   0.1s\n",
      "[CV] alpha=1 .........................................................\n",
      "[CV] ............. alpha=1, score=-0.019384054002423823, total=   0.0s\n",
      "[CV] alpha=10 ........................................................\n",
      "[CV] ............ alpha=10, score=-0.013478949301628528, total=   0.0s\n",
      "[CV] alpha=10 ........................................................\n",
      "[CV] ............ alpha=10, score=-0.018545195740849275, total=   0.0s\n",
      "[CV] alpha=10 ........................................................\n",
      "[CV] ............ alpha=10, score=-0.017358510218196843, total=   0.0s\n",
      "[CV] alpha=100 .......................................................\n",
      "[CV] ........... alpha=100, score=-0.013697357304794646, total=   0.0s\n",
      "[CV] alpha=100 .......................................................\n",
      "[CV] ............ alpha=100, score=-0.01975059160432207, total=   0.0s\n",
      "[CV] alpha=100 .......................................................\n",
      "[CV] ........... alpha=100, score=-0.017966525582363724, total=   0.0s\n",
      "[CV] alpha=1000 ......................................................\n",
      "[CV] .......... alpha=1000, score=-0.020357910281845398, total=   0.1s\n",
      "[CV] alpha=1000 ......................................................\n",
      "[CV] .......... alpha=1000, score=-0.026120063867471312, total=   0.0s\n",
      "[CV] alpha=1000 ......................................................\n",
      "[CV] ........... alpha=1000, score=-0.02226807896809023, total=   0.0s\n",
      "0.128297584838\n",
      "{'alpha': 10}\n"
     ]
    },
    {
     "name": "stderr",
     "output_type": "stream",
     "text": [
      "[Parallel(n_jobs=1)]: Done  24 out of  24 | elapsed:    0.9s finished\n"
     ]
    }
   ],
   "source": [
    "from sklearn.linear_model import Ridge\n",
    "ridgeParams = {'alpha':[0.0001, 0.001, .01, 0.1, 1, 10, 100, 1000]}\n",
    "bestRidgeEst = runGSAndGetRMSE(Ridge(), ridgeParams)"
   ]
  },
  {
   "cell_type": "markdown",
   "metadata": {},
   "source": [
    "### Elastic Net"
   ]
  },
  {
   "cell_type": "code",
   "execution_count": 26,
   "metadata": {
    "collapsed": false
   },
   "outputs": [
    {
     "name": "stdout",
     "output_type": "stream",
     "text": [
      "Fitting 3 folds for each of 12 candidates, totalling 36 fits\n",
      "[CV] alpha=0.0001, l1_ratio=0.3 ......................................\n"
     ]
    },
    {
     "name": "stderr",
     "output_type": "stream",
     "text": [
      "/home/ryanryanadmin/anaconda3/lib/python3.6/site-packages/sklearn/linear_model/coordinate_descent.py:491: ConvergenceWarning: Objective did not converge. You might want to increase the number of iterations. Fitting data with very small alpha may cause precision problems.\n",
      "  ConvergenceWarning)\n",
      "[Parallel(n_jobs=1)]: Done   1 out of   1 | elapsed:    0.4s remaining:    0.0s\n"
     ]
    },
    {
     "name": "stdout",
     "output_type": "stream",
     "text": [
      "[CV]  alpha=0.0001, l1_ratio=0.3, score=-0.015524652045152975, total=   0.4s\n",
      "[CV] alpha=0.0001, l1_ratio=0.3 ......................................\n"
     ]
    },
    {
     "name": "stderr",
     "output_type": "stream",
     "text": [
      "/home/ryanryanadmin/anaconda3/lib/python3.6/site-packages/sklearn/linear_model/coordinate_descent.py:491: ConvergenceWarning: Objective did not converge. You might want to increase the number of iterations. Fitting data with very small alpha may cause precision problems.\n",
      "  ConvergenceWarning)\n",
      "[Parallel(n_jobs=1)]: Done   2 out of   2 | elapsed:    0.8s remaining:    0.0s\n"
     ]
    },
    {
     "name": "stdout",
     "output_type": "stream",
     "text": [
      "[CV]  alpha=0.0001, l1_ratio=0.3, score=-0.02060676403790059, total=   0.4s\n",
      "[CV] alpha=0.0001, l1_ratio=0.3 ......................................\n",
      "[CV]  alpha=0.0001, l1_ratio=0.3, score=-0.02083514075053352, total=   0.3s\n",
      "[CV] alpha=0.0001, l1_ratio=0.6 ......................................\n"
     ]
    },
    {
     "name": "stderr",
     "output_type": "stream",
     "text": [
      "[Parallel(n_jobs=1)]: Done   3 out of   3 | elapsed:    1.0s remaining:    0.0s\n"
     ]
    },
    {
     "name": "stdout",
     "output_type": "stream",
     "text": [
      "[CV]  alpha=0.0001, l1_ratio=0.6, score=-0.013826677539056849, total=   0.3s\n",
      "[CV] alpha=0.0001, l1_ratio=0.6 ......................................\n"
     ]
    },
    {
     "name": "stderr",
     "output_type": "stream",
     "text": [
      "[Parallel(n_jobs=1)]: Done   4 out of   4 | elapsed:    1.4s remaining:    0.0s\n",
      "/home/ryanryanadmin/anaconda3/lib/python3.6/site-packages/sklearn/linear_model/coordinate_descent.py:491: ConvergenceWarning: Objective did not converge. You might want to increase the number of iterations. Fitting data with very small alpha may cause precision problems.\n",
      "  ConvergenceWarning)\n"
     ]
    },
    {
     "name": "stdout",
     "output_type": "stream",
     "text": [
      "[CV]  alpha=0.0001, l1_ratio=0.6, score=-0.019218507723995564, total=   0.3s\n",
      "[CV] alpha=0.0001, l1_ratio=0.6 ......................................\n",
      "[CV]  alpha=0.0001, l1_ratio=0.6, score=-0.01987585777009655, total=   0.6s\n",
      "[CV] alpha=0.0001, l1_ratio=0.9 ......................................\n",
      "[CV]  alpha=0.0001, l1_ratio=0.9, score=-0.013000146796132579, total=   0.2s\n",
      "[CV] alpha=0.0001, l1_ratio=0.9 ......................................\n"
     ]
    },
    {
     "name": "stderr",
     "output_type": "stream",
     "text": [
      "/home/ryanryanadmin/anaconda3/lib/python3.6/site-packages/sklearn/linear_model/coordinate_descent.py:491: ConvergenceWarning: Objective did not converge. You might want to increase the number of iterations. Fitting data with very small alpha may cause precision problems.\n",
      "  ConvergenceWarning)\n"
     ]
    },
    {
     "name": "stdout",
     "output_type": "stream",
     "text": [
      "[CV]  alpha=0.0001, l1_ratio=0.9, score=-0.018518519047062736, total=   0.4s\n",
      "[CV] alpha=0.0001, l1_ratio=0.9 ......................................\n",
      "[CV]  alpha=0.0001, l1_ratio=0.9, score=-0.019170457808326706, total=   0.1s\n",
      "[CV] alpha=0.01, l1_ratio=0.3 ........................................\n",
      "[CV]  alpha=0.01, l1_ratio=0.3, score=-0.014247800681347544, total=   0.0s\n",
      "[CV] alpha=0.01, l1_ratio=0.3 ........................................\n",
      "[CV]  alpha=0.01, l1_ratio=0.3, score=-0.020691992348080536, total=   0.0s\n",
      "[CV] alpha=0.01, l1_ratio=0.3 ........................................\n",
      "[CV]  alpha=0.01, l1_ratio=0.3, score=-0.019447854521269552, total=   0.0s\n",
      "[CV] alpha=0.01, l1_ratio=0.6 ........................................\n",
      "[CV]  alpha=0.01, l1_ratio=0.6, score=-0.01599340203907997, total=   0.1s\n",
      "[CV] alpha=0.01, l1_ratio=0.6 ........................................\n",
      "[CV]  alpha=0.01, l1_ratio=0.6, score=-0.021774399265407605, total=   0.1s\n",
      "[CV] alpha=0.01, l1_ratio=0.6 ........................................\n",
      "[CV]  alpha=0.01, l1_ratio=0.6, score=-0.021112443201298785, total=   0.1s\n",
      "[CV] alpha=0.01, l1_ratio=0.9 ........................................\n",
      "[CV]  alpha=0.01, l1_ratio=0.9, score=-0.01685752144668853, total=   0.1s\n",
      "[CV] alpha=0.01, l1_ratio=0.9 ........................................\n",
      "[CV]  alpha=0.01, l1_ratio=0.9, score=-0.022389064177770743, total=   0.1s\n",
      "[CV] alpha=0.01, l1_ratio=0.9 ........................................\n",
      "[CV]  alpha=0.01, l1_ratio=0.9, score=-0.021613106666457667, total=   0.0s\n",
      "[CV] alpha=0.1, l1_ratio=0.3 .........................................\n",
      "[CV]  alpha=0.1, l1_ratio=0.3, score=-0.023906843683647483, total=   0.0s\n",
      "[CV] alpha=0.1, l1_ratio=0.3 .........................................\n",
      "[CV]  alpha=0.1, l1_ratio=0.3, score=-0.027170125578703398, total=   0.0s\n",
      "[CV] alpha=0.1, l1_ratio=0.3 .........................................\n",
      "[CV]  alpha=0.1, l1_ratio=0.3, score=-0.025237153511605045, total=   0.0s\n",
      "[CV] alpha=0.1, l1_ratio=0.6 .........................................\n",
      "[CV]  alpha=0.1, l1_ratio=0.6, score=-0.035921375137008535, total=   0.0s\n",
      "[CV] alpha=0.1, l1_ratio=0.6 .........................................\n",
      "[CV]  alpha=0.1, l1_ratio=0.6, score=-0.03581259078094971, total=   0.0s\n",
      "[CV] alpha=0.1, l1_ratio=0.6 .........................................\n",
      "[CV]  alpha=0.1, l1_ratio=0.6, score=-0.03083515259733785, total=   0.0s\n",
      "[CV] alpha=0.1, l1_ratio=0.9 .........................................\n",
      "[CV]  alpha=0.1, l1_ratio=0.9, score=-0.04625443783010699, total=   0.0s\n",
      "[CV] alpha=0.1, l1_ratio=0.9 .........................................\n",
      "[CV]  alpha=0.1, l1_ratio=0.9, score=-0.046081887438093966, total=   0.0s\n",
      "[CV] alpha=0.1, l1_ratio=0.9 .........................................\n",
      "[CV]  alpha=0.1, l1_ratio=0.9, score=-0.038102486188732784, total=   0.1s\n",
      "[CV] alpha=1, l1_ratio=0.3 ...........................................\n",
      "[CV] . alpha=1, l1_ratio=0.3, score=-0.1518738699778875, total=   0.0s\n",
      "[CV] alpha=1, l1_ratio=0.3 ...........................................\n",
      "[CV]  alpha=1, l1_ratio=0.3, score=-0.16002785424714985, total=   0.0s\n",
      "[CV] alpha=1, l1_ratio=0.3 ...........................................\n",
      "[CV]  alpha=1, l1_ratio=0.3, score=-0.13744344261009855, total=   0.0s\n",
      "[CV] alpha=1, l1_ratio=0.6 ...........................................\n",
      "[CV]  alpha=1, l1_ratio=0.6, score=-0.16250356292806156, total=   0.0s\n",
      "[CV] alpha=1, l1_ratio=0.6 ...........................................\n",
      "[CV] . alpha=1, l1_ratio=0.6, score=-0.1674751681154176, total=   0.0s\n",
      "[CV] alpha=1, l1_ratio=0.6 ...........................................\n",
      "[CV] . alpha=1, l1_ratio=0.6, score=-0.1485322370902425, total=   0.0s\n",
      "[CV] alpha=1, l1_ratio=0.9 ...........................................\n",
      "[CV]  alpha=1, l1_ratio=0.9, score=-0.16250356292806156, total=   0.0s\n",
      "[CV] alpha=1, l1_ratio=0.9 ...........................................\n",
      "[CV] . alpha=1, l1_ratio=0.9, score=-0.1674757305709647, total=   0.0s\n",
      "[CV] alpha=1, l1_ratio=0.9 ...........................................\n",
      "[CV]  alpha=1, l1_ratio=0.9, score=-0.14853926724942715, total=   0.0s\n"
     ]
    },
    {
     "name": "stderr",
     "output_type": "stream",
     "text": [
      "[Parallel(n_jobs=1)]: Done  36 out of  36 | elapsed:    4.0s finished\n"
     ]
    },
    {
     "name": "stdout",
     "output_type": "stream",
     "text": [
      "0.129980063699\n",
      "{'alpha': 0.0001, 'l1_ratio': 0.9}\n"
     ]
    }
   ],
   "source": [
    "from sklearn.linear_model import ElasticNet\n",
    "elasticParams = {'alpha':[0.0001, .01, 0.1, 1], 'l1_ratio': [0.30, 0.6, 0.9]}\n",
    "bestElEst = runGSAndGetRMSE(ElasticNet(), elasticParams)"
   ]
  },
  {
   "cell_type": "markdown",
   "metadata": {},
   "source": [
    "### Lasso"
   ]
  },
  {
   "cell_type": "code",
   "execution_count": 27,
   "metadata": {
    "collapsed": false
   },
   "outputs": [
    {
     "name": "stdout",
     "output_type": "stream",
     "text": [
      "Fitting 3 folds for each of 8 candidates, totalling 24 fits\n",
      "[CV] alpha=0.0001 ....................................................\n",
      "[CV] ........ alpha=0.0001, score=-0.012845331490504071, total=   0.2s\n",
      "[CV] alpha=0.0001 ....................................................\n"
     ]
    },
    {
     "name": "stderr",
     "output_type": "stream",
     "text": [
      "[Parallel(n_jobs=1)]: Done   1 out of   1 | elapsed:    0.2s remaining:    0.0s\n"
     ]
    },
    {
     "name": "stdout",
     "output_type": "stream",
     "text": [
      "[CV] ........ alpha=0.0001, score=-0.018343014430508914, total=   0.3s\n",
      "[CV] alpha=0.0001 ....................................................\n",
      "[CV] ........ alpha=0.0001, score=-0.018999838988523837, total=   0.1s\n",
      "[CV] alpha=0.001 .....................................................\n",
      "[CV] ......... alpha=0.001, score=-0.012371603225422568, total=   0.0s\n",
      "[CV] alpha=0.001 .....................................................\n"
     ]
    },
    {
     "name": "stderr",
     "output_type": "stream",
     "text": [
      "[Parallel(n_jobs=1)]: Done   2 out of   2 | elapsed:    0.5s remaining:    0.0s\n",
      "[Parallel(n_jobs=1)]: Done   3 out of   3 | elapsed:    0.6s remaining:    0.0s\n",
      "[Parallel(n_jobs=1)]: Done   4 out of   4 | elapsed:    0.7s remaining:    0.0s\n"
     ]
    },
    {
     "name": "stdout",
     "output_type": "stream",
     "text": [
      "[CV] ......... alpha=0.001, score=-0.018313060633256637, total=   0.1s\n",
      "[CV] alpha=0.001 .....................................................\n",
      "[CV] ......... alpha=0.001, score=-0.016986357386776767, total=   0.0s\n",
      "[CV] alpha=0.01 ......................................................\n",
      "[CV] .......... alpha=0.01, score=-0.017132789267280155, total=   0.0s\n",
      "[CV] alpha=0.01 ......................................................\n",
      "[CV] ........... alpha=0.01, score=-0.02255534500871121, total=   0.0s\n",
      "[CV] alpha=0.01 ......................................................\n",
      "[CV] .......... alpha=0.01, score=-0.021712175967367152, total=   0.0s\n",
      "[CV] alpha=0.1 .......................................................\n",
      "[CV] ........... alpha=0.1, score=-0.050230764066581675, total=   0.0s\n",
      "[CV] alpha=0.1 .......................................................\n",
      "[CV] ............ alpha=0.1, score=-0.04951635469697085, total=   0.0s\n",
      "[CV] alpha=0.1 .......................................................\n",
      "[CV] ........... alpha=0.1, score=-0.040955020463608126, total=   0.0s\n",
      "[CV] alpha=1 .........................................................\n",
      "[CV] .............. alpha=1, score=-0.16250356292806156, total=   0.0s\n",
      "[CV] alpha=1 .........................................................\n",
      "[CV] .............. alpha=1, score=-0.16747593005852585, total=   0.0s\n",
      "[CV] alpha=1 .........................................................\n",
      "[CV] .............. alpha=1, score=-0.14854514714136005, total=   0.0s\n",
      "[CV] alpha=10 ........................................................\n",
      "[CV] ............. alpha=10, score=-0.16250356292806156, total=   0.0s\n",
      "[CV] alpha=10 ........................................................\n",
      "[CV] ............. alpha=10, score=-0.16748578172980452, total=   0.0s\n",
      "[CV] alpha=10 ........................................................\n",
      "[CV] ............. alpha=10, score=-0.14866758930996044, total=   0.0s\n",
      "[CV] alpha=100 .......................................................\n",
      "[CV] ............ alpha=100, score=-0.16250356292806156, total=   0.0s\n",
      "[CV] alpha=100 .......................................................\n",
      "[CV] ............ alpha=100, score=-0.16748578172980452, total=   0.0s\n",
      "[CV] alpha=100 .......................................................\n",
      "[CV] ............ alpha=100, score=-0.14866758930996044, total=   0.0s\n",
      "[CV] alpha=1000 ......................................................\n",
      "[CV] ........... alpha=1000, score=-0.16250356292806156, total=   0.0s\n",
      "[CV] alpha=1000 ......................................................\n",
      "[CV] ........... alpha=1000, score=-0.16748578172980452, total=   0.0s\n",
      "[CV] alpha=1000 ......................................................\n",
      "[CV] ........... alpha=1000, score=-0.14866758930996044, total=   0.0s\n",
      "0.126053915919\n",
      "{'alpha': 0.001}\n"
     ]
    },
    {
     "name": "stderr",
     "output_type": "stream",
     "text": [
      "[Parallel(n_jobs=1)]: Done  24 out of  24 | elapsed:    1.1s finished\n"
     ]
    }
   ],
   "source": [
    "from sklearn.linear_model import Lasso\n",
    "lassoParams = {'alpha':[0.0001, 0.001, .01, 0.1, 1, 10, 100, 1000]}\n",
    "bestLassoEst = runGSAndGetRMSE(Lasso(), lassoParams)"
   ]
  },
  {
   "cell_type": "markdown",
   "metadata": {},
   "source": [
    "It looks like the lasso was the winner. Let's take look at its coefficients."
   ]
  },
  {
   "cell_type": "code",
   "execution_count": 39,
   "metadata": {
    "collapsed": false
   },
   "outputs": [
    {
     "data": {
      "text/html": [
       "<div>\n",
       "<style scoped>\n",
       "    .dataframe tbody tr th:only-of-type {\n",
       "        vertical-align: middle;\n",
       "    }\n",
       "\n",
       "    .dataframe tbody tr th {\n",
       "        vertical-align: top;\n",
       "    }\n",
       "\n",
       "    .dataframe thead th {\n",
       "        text-align: right;\n",
       "    }\n",
       "</style>\n",
       "<table border=\"1\" class=\"dataframe\">\n",
       "  <thead>\n",
       "    <tr style=\"text-align: right;\">\n",
       "      <th></th>\n",
       "      <th>absol</th>\n",
       "      <th>feature</th>\n",
       "      <th>weight</th>\n",
       "    </tr>\n",
       "  </thead>\n",
       "  <tbody>\n",
       "    <tr>\n",
       "      <th>342</th>\n",
       "      <td>0.203238</td>\n",
       "      <td>MSZoning_C (all)</td>\n",
       "      <td>-0.203238</td>\n",
       "    </tr>\n",
       "    <tr>\n",
       "      <th>14</th>\n",
       "      <td>0.127080</td>\n",
       "      <td>GrLivArea</td>\n",
       "      <td>0.127080</td>\n",
       "    </tr>\n",
       "    <tr>\n",
       "      <th>362</th>\n",
       "      <td>0.082824</td>\n",
       "      <td>Neighborhood_Crawfor</td>\n",
       "      <td>0.082824</td>\n",
       "    </tr>\n",
       "    <tr>\n",
       "      <th>26</th>\n",
       "      <td>0.076849</td>\n",
       "      <td>OverallQual</td>\n",
       "      <td>0.076849</td>\n",
       "    </tr>\n",
       "    <tr>\n",
       "      <th>378</th>\n",
       "      <td>0.068951</td>\n",
       "      <td>Neighborhood_StoneBr</td>\n",
       "      <td>0.068951</td>\n",
       "    </tr>\n",
       "  </tbody>\n",
       "</table>\n",
       "</div>"
      ],
      "text/plain": [
       "        absol               feature    weight\n",
       "342  0.203238      MSZoning_C (all) -0.203238\n",
       "14   0.127080             GrLivArea  0.127080\n",
       "362  0.082824  Neighborhood_Crawfor  0.082824\n",
       "26   0.076849           OverallQual  0.076849\n",
       "378  0.068951  Neighborhood_StoneBr  0.068951"
      ]
     },
     "execution_count": 39,
     "metadata": {},
     "output_type": "execute_result"
    }
   ],
   "source": [
    "lasso_coef = bestLassoEst.coef_\n",
    "coef_df = pd.DataFrame({'feature': X_train.columns, 'weight': lasso_coef, 'absol': abs(lasso_coef)})\n",
    "coef_df = coef_df.sort_values(by='absol', ascending=False)\n",
    "coef_df.head()"
   ]
  },
  {
   "cell_type": "markdown",
   "metadata": {},
   "source": [
    "The lasso has shrunk 80% of our features to zero."
   ]
  },
  {
   "cell_type": "code",
   "execution_count": 40,
   "metadata": {
    "collapsed": false
   },
   "outputs": [
    {
     "data": {
      "text/plain": [
       "0.80522565320665085"
      ]
     },
     "execution_count": 40,
     "metadata": {},
     "output_type": "execute_result"
    }
   ],
   "source": [
    "1 - (coef_df.absol > 0).sum() / coef_df.shape[0]"
   ]
  },
  {
   "cell_type": "code",
   "execution_count": 42,
   "metadata": {
    "collapsed": false,
    "scrolled": true
   },
   "outputs": [
    {
     "data": {
      "image/png": "[encoded data removed]",
      "text/plain": [
       "<matplotlib.figure.Figure at 0x7fafd3002ac8>"
      ]
     },
     "metadata": {},
     "output_type": "display_data"
    }
   ],
   "source": [
    "fig, ax = plt.subplots(1,1, figsize=(12, 10))\n",
    "coef_df.iloc[:20, :].plot(kind='barh', x='feature', y='weight', ax=ax)\n",
    "_= ax.set_title(\"Lasso coefficients\", fontsize=16)\n",
    "plt.tight_layout()\n",
    "plt.savefig('imgs/lasso_coef.png')"
   ]
  },
  {
   "cell_type": "markdown",
   "metadata": {},
   "source": [
    "Fit our tuned model on all the data prior to submission."
   ]
  },
  {
   "cell_type": "code",
   "execution_count": 36,
   "metadata": {
    "collapsed": false
   },
   "outputs": [
    {
     "data": {
      "text/plain": [
       "Lasso(alpha=0.001, copy_X=True, fit_intercept=True, max_iter=1000,\n",
       "   normalize=False, positive=False, precompute=False, random_state=None,\n",
       "   selection='cyclic', tol=0.0001, warm_start=False)"
      ]
     },
     "execution_count": 36,
     "metadata": {},
     "output_type": "execute_result"
    }
   ],
   "source": [
    "bestLassoEst.fit(X_train, y)"
   ]
  },
  {
   "cell_type": "markdown",
   "metadata": {},
   "source": [
    "Make predictions on the test set and undo our log transform so that the values will be on their original scale."
   ]
  },
  {
   "cell_type": "code",
   "execution_count": 37,
   "metadata": {
    "collapsed": true
   },
   "outputs": [],
   "source": [
    "preds = np.expm1(bestLassoEst.predict(X_test))\n",
    "solution = pd.DataFrame({\"id\":X_test.Id, \"SalePrice\":preds}, columns=['id', 'SalePrice'])\n",
    "\n",
    "solution.to_csv(\"lasso_sol_2.csv\", index = False)"
   ]
  },
  {
   "cell_type": "markdown",
   "metadata": {},
   "source": [
    "Let's save the model so we can use it later"
   ]
  },
  {
   "cell_type": "code",
   "execution_count": 38,
   "metadata": {
    "collapsed": false
   },
   "outputs": [
    {
     "data": {
      "text/plain": [
       "['lasso_alpha_.001.pkl']"
      ]
     },
     "execution_count": 38,
     "metadata": {},
     "output_type": "execute_result"
    }
   ],
   "source": [
    "from sklearn.externals import joblib\n",
    "joblib.dump(bestLassoEst, 'lasso_alpha_.001.pkl')"
   ]
  }
 ],
 "metadata": {
  "kernelspec": {
   "display_name": "Python 3",
   "language": "python",
   "name": "python3"
  },
  "language_info": {
   "codemirror_mode": {
    "name": "ipython",
    "version": 3
   },
   "file_extension": ".py",
   "mimetype": "text/x-python",
   "name": "python",
   "nbconvert_exporter": "python",
   "pygments_lexer": "ipython3",
   "version": "3.6.0"
  }
 },
 "nbformat": 4,
 "nbformat_minor": 1
}
