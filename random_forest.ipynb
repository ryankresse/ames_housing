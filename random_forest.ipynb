{
 "cells": [
  {
   "cell_type": "code",
   "execution_count": 1,
   "metadata": {
    "collapsed": false
   },
   "outputs": [
    {
     "name": "stderr",
     "output_type": "stream",
     "text": [
      "/home/ryanryanadmin/anaconda3/lib/python3.6/site-packages/sklearn/cross_validation.py:44: DeprecationWarning: This module was deprecated in version 0.18 in favor of the model_selection module into which all the refactored classes and functions are moved. Also note that the interface of the new CV iterators are different from that of this module. This module will be removed in 0.20.\n",
      "  \"This module will be removed in 0.20.\", DeprecationWarning)\n"
     ]
    }
   ],
   "source": [
    "%matplotlib inline\n",
    "import numpy as np\n",
    "import matplotlib.pyplot as plt\n",
    "import pandas as pd\n",
    "import scipy.stats as stats\n",
    "from scipy.stats import skew\n",
    "import seaborn as sns\n",
    "import sklearn\n",
    "import warnings\n",
    "from sklearn.cross_validation import KFold\n",
    "from sklearn.preprocessing import PolynomialFeatures\n",
    "from sklearn.linear_model import Lasso"
   ]
  },
  {
   "cell_type": "code",
   "execution_count": 11,
   "metadata": {
    "collapsed": true
   },
   "outputs": [],
   "source": [
    "train_clean = pd.read_csv('train_clean.csv', dtype={'MSSubClass': str})  \n",
    "train = pd.read_csv('train.csv', dtype={'MSSubClass': str})"
   ]
  },
  {
   "cell_type": "markdown",
   "metadata": {},
   "source": [
    "Remove outlier records we previously identified as being harmful to the model"
   ]
  },
  {
   "cell_type": "code",
   "execution_count": 12,
   "metadata": {
    "collapsed": false
   },
   "outputs": [],
   "source": [
    "train_clean = train_clean[(train_clean.Id != 1299) & (train_clean.Id != 524)]"
   ]
  },
  {
   "cell_type": "code",
   "execution_count": 13,
   "metadata": {
    "collapsed": true
   },
   "outputs": [],
   "source": [
    "y_train = train_clean['SalePrice']\n",
    "train_clean = train_clean.drop(['SalePrice', 'Id'], axis=1)"
   ]
  },
  {
   "cell_type": "markdown",
   "metadata": {},
   "source": [
    "## Fit the model."
   ]
  },
  {
   "cell_type": "markdown",
   "metadata": {},
   "source": [
    "Run grid search to fit find the best shrinkage hyperparameter."
   ]
  },
  {
   "cell_type": "code",
   "execution_count": 14,
   "metadata": {
    "collapsed": false
   },
   "outputs": [],
   "source": [
    "from sklearn.grid_search import GridSearchCV\n",
    "from sklearn.model_selection import cross_val_score\n",
    "def runGSAndGetRMSE(est, params):\n",
    "    gs = GridSearchCV(est, param_grid= params, verbose=5, scoring='neg_mean_squared_error')\n",
    "    gs.fit(train_clean, y_train)\n",
    "    print(np.sqrt(gs.best_score_*-1))\n",
    "    print(gs.best_params_)\n",
    "    return gs.best_estimator_"
   ]
  },
  {
   "cell_type": "code",
   "execution_count": 19,
   "metadata": {
    "collapsed": false
   },
   "outputs": [
    {
     "name": "stdout",
     "output_type": "stream",
     "text": [
      "Fitting 3 folds for each of 12 candidates, totalling 36 fits\n",
      "[CV] max_depth=2, n_estimators=10 ....................................\n",
      "[CV] .......... max_depth=2, n_estimators=10, score=-0.053405 -   0.1s\n",
      "[CV] max_depth=2, n_estimators=10 ....................................\n",
      "[CV] .......... max_depth=2, n_estimators=10, score=-0.058434 -   0.0s\n",
      "[CV] max_depth=2, n_estimators=10 ....................................\n",
      "[CV] .......... max_depth=2, n_estimators=10, score=-0.051154 -   0.0s\n",
      "[CV] max_depth=2, n_estimators=25 ....................................\n"
     ]
    },
    {
     "name": "stderr",
     "output_type": "stream",
     "text": [
      "[Parallel(n_jobs=1)]: Done   1 out of   1 | elapsed:    0.1s remaining:    0.0s\n",
      "[Parallel(n_jobs=1)]: Done   2 out of   2 | elapsed:    0.1s remaining:    0.0s\n",
      "[Parallel(n_jobs=1)]: Done   3 out of   3 | elapsed:    0.1s remaining:    0.0s\n",
      "[Parallel(n_jobs=1)]: Done   4 out of   4 | elapsed:    0.2s remaining:    0.0s\n"
     ]
    },
    {
     "name": "stdout",
     "output_type": "stream",
     "text": [
      "[CV] .......... max_depth=2, n_estimators=25, score=-0.055098 -   0.1s\n",
      "[CV] max_depth=2, n_estimators=25 ....................................\n",
      "[CV] .......... max_depth=2, n_estimators=25, score=-0.059147 -   0.1s\n",
      "[CV] max_depth=2, n_estimators=25 ....................................\n",
      "[CV] .......... max_depth=2, n_estimators=25, score=-0.049920 -   0.1s\n",
      "[CV] max_depth=2, n_estimators=50 ....................................\n",
      "[CV] .......... max_depth=2, n_estimators=50, score=-0.054375 -   0.2s\n",
      "[CV] max_depth=2, n_estimators=50 ....................................\n",
      "[CV] .......... max_depth=2, n_estimators=50, score=-0.060029 -   0.2s\n",
      "[CV] max_depth=2, n_estimators=50 ....................................\n",
      "[CV] .......... max_depth=2, n_estimators=50, score=-0.048684 -   0.2s\n",
      "[CV] max_depth=4, n_estimators=10 ....................................\n",
      "[CV] .......... max_depth=4, n_estimators=10, score=-0.031591 -   0.1s\n",
      "[CV] max_depth=4, n_estimators=10 ....................................\n",
      "[CV] .......... max_depth=4, n_estimators=10, score=-0.035068 -   0.1s\n",
      "[CV] max_depth=4, n_estimators=10 ....................................\n",
      "[CV] .......... max_depth=4, n_estimators=10, score=-0.028552 -   0.1s\n",
      "[CV] max_depth=4, n_estimators=25 ....................................\n",
      "[CV] .......... max_depth=4, n_estimators=25, score=-0.031976 -   0.2s\n",
      "[CV] max_depth=4, n_estimators=25 ....................................\n",
      "[CV] .......... max_depth=4, n_estimators=25, score=-0.032487 -   0.1s\n",
      "[CV] max_depth=4, n_estimators=25 ....................................\n",
      "[CV] .......... max_depth=4, n_estimators=25, score=-0.027110 -   0.2s\n",
      "[CV] max_depth=4, n_estimators=50 ....................................\n",
      "[CV] .......... max_depth=4, n_estimators=50, score=-0.030149 -   0.3s\n",
      "[CV] max_depth=4, n_estimators=50 ....................................\n",
      "[CV] .......... max_depth=4, n_estimators=50, score=-0.032517 -   0.3s\n",
      "[CV] max_depth=4, n_estimators=50 ....................................\n",
      "[CV] .......... max_depth=4, n_estimators=50, score=-0.026788 -   0.3s\n",
      "[CV] max_depth=6, n_estimators=10 ....................................\n",
      "[CV] .......... max_depth=6, n_estimators=10, score=-0.026067 -   0.1s\n",
      "[CV] max_depth=6, n_estimators=10 ....................................\n",
      "[CV] .......... max_depth=6, n_estimators=10, score=-0.027623 -   0.1s\n",
      "[CV] max_depth=6, n_estimators=10 ....................................\n",
      "[CV] .......... max_depth=6, n_estimators=10, score=-0.024107 -   0.1s\n",
      "[CV] max_depth=6, n_estimators=25 ....................................\n",
      "[CV] .......... max_depth=6, n_estimators=25, score=-0.025258 -   0.2s\n",
      "[CV] max_depth=6, n_estimators=25 ....................................\n",
      "[CV] .......... max_depth=6, n_estimators=25, score=-0.026679 -   0.2s\n",
      "[CV] max_depth=6, n_estimators=25 ....................................\n",
      "[CV] .......... max_depth=6, n_estimators=25, score=-0.021507 -   0.2s\n",
      "[CV] max_depth=6, n_estimators=50 ....................................\n",
      "[CV] .......... max_depth=6, n_estimators=50, score=-0.023796 -   0.4s\n",
      "[CV] max_depth=6, n_estimators=50 ....................................\n",
      "[CV] .......... max_depth=6, n_estimators=50, score=-0.025823 -   0.4s\n",
      "[CV] max_depth=6, n_estimators=50 ....................................\n",
      "[CV] .......... max_depth=6, n_estimators=50, score=-0.020532 -   0.4s\n",
      "[CV] max_depth=8, n_estimators=10 ....................................\n",
      "[CV] .......... max_depth=8, n_estimators=10, score=-0.023761 -   0.1s\n",
      "[CV] max_depth=8, n_estimators=10 ....................................\n",
      "[CV] .......... max_depth=8, n_estimators=10, score=-0.025773 -   0.1s\n",
      "[CV] max_depth=8, n_estimators=10 ....................................\n",
      "[CV] .......... max_depth=8, n_estimators=10, score=-0.019626 -   0.1s\n",
      "[CV] max_depth=8, n_estimators=25 ....................................\n",
      "[CV] .......... max_depth=8, n_estimators=25, score=-0.020833 -   0.3s\n",
      "[CV] max_depth=8, n_estimators=25 ....................................\n",
      "[CV] .......... max_depth=8, n_estimators=25, score=-0.024058 -   0.3s\n",
      "[CV] max_depth=8, n_estimators=25 ....................................\n",
      "[CV] .......... max_depth=8, n_estimators=25, score=-0.019086 -   0.3s\n",
      "[CV] max_depth=8, n_estimators=50 ....................................\n",
      "[CV] .......... max_depth=8, n_estimators=50, score=-0.021587 -   0.8s\n",
      "[CV] max_depth=8, n_estimators=50 ....................................\n",
      "[CV] .......... max_depth=8, n_estimators=50, score=-0.024398 -   0.9s\n",
      "[CV] max_depth=8, n_estimators=50 ....................................\n",
      "[CV] .......... max_depth=8, n_estimators=50, score=-0.019074 -   0.6s\n"
     ]
    },
    {
     "name": "stderr",
     "output_type": "stream",
     "text": [
      "[Parallel(n_jobs=1)]: Done  36 out of  36 | elapsed:    8.4s finished\n"
     ]
    },
    {
     "name": "stdout",
     "output_type": "stream",
     "text": [
      "0.146033913163\n",
      "{'max_depth': 8, 'n_estimators': 25}\n"
     ]
    }
   ],
   "source": [
    "from sklearn.ensemble import RandomForestRegressor\n",
    "rfParams = {'n_estimators': [10,25,50], 'max_depth':list(np.arange(2,10,2))}\n",
    "bestRf = runGSAndGetRMSE(RandomForestRegressor(), rfParams)"
   ]
  },
  {
   "cell_type": "code",
   "execution_count": 20,
   "metadata": {
    "collapsed": false
   },
   "outputs": [
    {
     "name": "stdout",
     "output_type": "stream",
     "text": [
      "Fitting 3 folds for each of 3 candidates, totalling 9 fits\n",
      "[CV] max_depth=7, n_estimators=25 ....................................\n",
      "[CV] .......... max_depth=7, n_estimators=25, score=-0.021877 -   0.3s\n",
      "[CV] max_depth=7, n_estimators=25 ....................................\n"
     ]
    },
    {
     "name": "stderr",
     "output_type": "stream",
     "text": [
      "[Parallel(n_jobs=1)]: Done   1 out of   1 | elapsed:    0.3s remaining:    0.0s\n"
     ]
    },
    {
     "name": "stdout",
     "output_type": "stream",
     "text": [
      "[CV] .......... max_depth=7, n_estimators=25, score=-0.024848 -   0.3s\n",
      "[CV] max_depth=7, n_estimators=25 ....................................\n"
     ]
    },
    {
     "name": "stderr",
     "output_type": "stream",
     "text": [
      "[Parallel(n_jobs=1)]: Done   2 out of   2 | elapsed:    0.6s remaining:    0.0s\n"
     ]
    },
    {
     "name": "stdout",
     "output_type": "stream",
     "text": [
      "[CV] .......... max_depth=7, n_estimators=25, score=-0.020075 -   0.3s\n",
      "[CV] max_depth=8, n_estimators=25 ....................................\n"
     ]
    },
    {
     "name": "stderr",
     "output_type": "stream",
     "text": [
      "[Parallel(n_jobs=1)]: Done   3 out of   3 | elapsed:    0.8s remaining:    0.0s\n"
     ]
    },
    {
     "name": "stdout",
     "output_type": "stream",
     "text": [
      "[CV] .......... max_depth=8, n_estimators=25, score=-0.021543 -   0.3s\n",
      "[CV] max_depth=8, n_estimators=25 ....................................\n"
     ]
    },
    {
     "name": "stderr",
     "output_type": "stream",
     "text": [
      "[Parallel(n_jobs=1)]: Done   4 out of   4 | elapsed:    1.1s remaining:    0.0s\n"
     ]
    },
    {
     "name": "stdout",
     "output_type": "stream",
     "text": [
      "[CV] .......... max_depth=8, n_estimators=25, score=-0.023766 -   0.3s\n",
      "[CV] max_depth=8, n_estimators=25 ....................................\n",
      "[CV] .......... max_depth=8, n_estimators=25, score=-0.019057 -   0.3s\n",
      "[CV] max_depth=9, n_estimators=25 ....................................\n",
      "[CV] .......... max_depth=9, n_estimators=25, score=-0.020597 -   0.3s\n",
      "[CV] max_depth=9, n_estimators=25 ....................................\n",
      "[CV] .......... max_depth=9, n_estimators=25, score=-0.024350 -   0.3s\n",
      "[CV] max_depth=9, n_estimators=25 ....................................\n",
      "[CV] .......... max_depth=9, n_estimators=25, score=-0.019115 -   0.3s\n"
     ]
    },
    {
     "name": "stderr",
     "output_type": "stream",
     "text": [
      "[Parallel(n_jobs=1)]: Done   9 out of   9 | elapsed:    2.7s finished\n"
     ]
    },
    {
     "name": "stdout",
     "output_type": "stream",
     "text": [
      "0.146129833306\n",
      "{'max_depth': 9, 'n_estimators': 25}\n"
     ]
    }
   ],
   "source": [
    "from sklearn.ensemble import RandomForestRegressor\n",
    "rfParams = {'n_estimators': [25], 'max_depth':[7,8,9]}\n",
    "bestRf = runGSAndGetRMSE(RandomForestRegressor(), rfParams)"
   ]
  },
  {
   "cell_type": "code",
   "execution_count": 21,
   "metadata": {
    "collapsed": false
   },
   "outputs": [
    {
     "name": "stdout",
     "output_type": "stream",
     "text": [
      "Fitting 3 folds for each of 3 candidates, totalling 9 fits\n",
      "[CV] max_depth=9, n_estimators=15 ....................................\n",
      "[CV] .......... max_depth=9, n_estimators=15, score=-0.022637 -   0.2s\n",
      "[CV] max_depth=9, n_estimators=15 ....................................\n"
     ]
    },
    {
     "name": "stderr",
     "output_type": "stream",
     "text": [
      "[Parallel(n_jobs=1)]: Done   1 out of   1 | elapsed:    0.2s remaining:    0.0s\n"
     ]
    },
    {
     "name": "stdout",
     "output_type": "stream",
     "text": [
      "[CV] .......... max_depth=9, n_estimators=15, score=-0.024062 -   0.2s\n",
      "[CV] max_depth=9, n_estimators=15 ....................................\n"
     ]
    },
    {
     "name": "stderr",
     "output_type": "stream",
     "text": [
      "[Parallel(n_jobs=1)]: Done   2 out of   2 | elapsed:    0.4s remaining:    0.0s\n"
     ]
    },
    {
     "name": "stdout",
     "output_type": "stream",
     "text": [
      "[CV] .......... max_depth=9, n_estimators=15, score=-0.019114 -   0.2s\n",
      "[CV] max_depth=9, n_estimators=25 ....................................\n"
     ]
    },
    {
     "name": "stderr",
     "output_type": "stream",
     "text": [
      "[Parallel(n_jobs=1)]: Done   3 out of   3 | elapsed:    0.6s remaining:    0.0s\n"
     ]
    },
    {
     "name": "stdout",
     "output_type": "stream",
     "text": [
      "[CV] .......... max_depth=9, n_estimators=25, score=-0.021540 -   0.3s\n",
      "[CV] max_depth=9, n_estimators=25 ....................................\n"
     ]
    },
    {
     "name": "stderr",
     "output_type": "stream",
     "text": [
      "[Parallel(n_jobs=1)]: Done   4 out of   4 | elapsed:    1.0s remaining:    0.0s\n"
     ]
    },
    {
     "name": "stdout",
     "output_type": "stream",
     "text": [
      "[CV] .......... max_depth=9, n_estimators=25, score=-0.024148 -   0.3s\n",
      "[CV] max_depth=9, n_estimators=25 ....................................\n",
      "[CV] .......... max_depth=9, n_estimators=25, score=-0.018924 -   0.3s\n",
      "[CV] max_depth=9, n_estimators=40 ....................................\n",
      "[CV] .......... max_depth=9, n_estimators=40, score=-0.021035 -   0.5s\n",
      "[CV] max_depth=9, n_estimators=40 ....................................\n",
      "[CV] .......... max_depth=9, n_estimators=40, score=-0.022998 -   0.5s\n",
      "[CV] max_depth=9, n_estimators=40 ....................................\n",
      "[CV] .......... max_depth=9, n_estimators=40, score=-0.018222 -   0.5s\n"
     ]
    },
    {
     "name": "stderr",
     "output_type": "stream",
     "text": [
      "[Parallel(n_jobs=1)]: Done   9 out of   9 | elapsed:    3.3s finished\n"
     ]
    },
    {
     "name": "stdout",
     "output_type": "stream",
     "text": [
      "0.144055163702\n",
      "{'max_depth': 9, 'n_estimators': 40}\n"
     ]
    }
   ],
   "source": [
    "from sklearn.ensemble import RandomForestRegressor\n",
    "rfParams = {'n_estimators': [15, 25, 40], 'max_depth':[9]}\n",
    "bestRf = runGSAndGetRMSE(RandomForestRegressor(), rfParams)"
   ]
  },
  {
   "cell_type": "code",
   "execution_count": 22,
   "metadata": {
    "collapsed": false
   },
   "outputs": [
    {
     "name": "stdout",
     "output_type": "stream",
     "text": [
      "Fitting 3 folds for each of 3 candidates, totalling 9 fits\n",
      "[CV] max_depth=9, n_estimators=35 ....................................\n",
      "[CV] .......... max_depth=9, n_estimators=35, score=-0.021528 -   0.5s\n",
      "[CV] max_depth=9, n_estimators=35 ....................................\n"
     ]
    },
    {
     "name": "stderr",
     "output_type": "stream",
     "text": [
      "[Parallel(n_jobs=1)]: Done   1 out of   1 | elapsed:    0.5s remaining:    0.0s\n"
     ]
    },
    {
     "name": "stdout",
     "output_type": "stream",
     "text": [
      "[CV] .......... max_depth=9, n_estimators=35, score=-0.023285 -   0.5s\n",
      "[CV] max_depth=9, n_estimators=35 ....................................\n"
     ]
    },
    {
     "name": "stderr",
     "output_type": "stream",
     "text": [
      "[Parallel(n_jobs=1)]: Done   2 out of   2 | elapsed:    1.0s remaining:    0.0s\n"
     ]
    },
    {
     "name": "stdout",
     "output_type": "stream",
     "text": [
      "[CV] .......... max_depth=9, n_estimators=35, score=-0.018573 -   0.5s\n",
      "[CV] max_depth=9, n_estimators=40 ....................................\n"
     ]
    },
    {
     "name": "stderr",
     "output_type": "stream",
     "text": [
      "[Parallel(n_jobs=1)]: Done   3 out of   3 | elapsed:    1.4s remaining:    0.0s\n"
     ]
    },
    {
     "name": "stdout",
     "output_type": "stream",
     "text": [
      "[CV] .......... max_depth=9, n_estimators=40, score=-0.021346 -   0.6s\n",
      "[CV] max_depth=9, n_estimators=40 ....................................\n"
     ]
    },
    {
     "name": "stderr",
     "output_type": "stream",
     "text": [
      "[Parallel(n_jobs=1)]: Done   4 out of   4 | elapsed:    2.0s remaining:    0.0s\n"
     ]
    },
    {
     "name": "stdout",
     "output_type": "stream",
     "text": [
      "[CV] .......... max_depth=9, n_estimators=40, score=-0.024979 -   0.6s\n",
      "[CV] max_depth=9, n_estimators=40 ....................................\n",
      "[CV] .......... max_depth=9, n_estimators=40, score=-0.018512 -   0.8s\n",
      "[CV] max_depth=9, n_estimators=45 ....................................\n",
      "[CV] .......... max_depth=9, n_estimators=45, score=-0.020302 -   0.6s\n",
      "[CV] max_depth=9, n_estimators=45 ....................................\n",
      "[CV] .......... max_depth=9, n_estimators=45, score=-0.023225 -   0.7s\n",
      "[CV] max_depth=9, n_estimators=45 ....................................\n",
      "[CV] .......... max_depth=9, n_estimators=45, score=-0.018232 -   0.6s\n"
     ]
    },
    {
     "name": "stderr",
     "output_type": "stream",
     "text": [
      "[Parallel(n_jobs=1)]: Done   9 out of   9 | elapsed:    5.3s finished\n"
     ]
    },
    {
     "name": "stdout",
     "output_type": "stream",
     "text": [
      "0.143478807231\n",
      "{'max_depth': 9, 'n_estimators': 45}\n"
     ]
    }
   ],
   "source": [
    "from sklearn.ensemble import RandomForestRegressor\n",
    "rfParams = {'n_estimators': [35, 40,45], 'max_depth':[9]}\n",
    "bestRf = runGSAndGetRMSE(RandomForestRegressor(), rfParams)"
   ]
  }
 ],
 "metadata": {
  "kernelspec": {
   "display_name": "Python 3",
   "language": "python",
   "name": "python3"
  },
  "language_info": {
   "codemirror_mode": {
    "name": "ipython",
    "version": 3
   },
   "file_extension": ".py",
   "mimetype": "text/x-python",
   "name": "python",
   "nbconvert_exporter": "python",
   "pygments_lexer": "ipython3",
   "version": "3.6.0"
  }
 },
 "nbformat": 4,
 "nbformat_minor": 0
}
