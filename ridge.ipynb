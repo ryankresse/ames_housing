{
 "cells": [
  {
   "cell_type": "code",
   "execution_count": 1,
   "metadata": {
    "collapsed": false
   },
   "outputs": [
    {
     "name": "stderr",
     "output_type": "stream",
     "text": [
      "/home/ryanryanadmin/anaconda3/lib/python3.6/site-packages/sklearn/cross_validation.py:44: DeprecationWarning: This module was deprecated in version 0.18 in favor of the model_selection module into which all the refactored classes and functions are moved. Also note that the interface of the new CV iterators are different from that of this module. This module will be removed in 0.20.\n",
      "  \"This module will be removed in 0.20.\", DeprecationWarning)\n"
     ]
    }
   ],
   "source": [
    "%matplotlib inline\n",
    "import numpy as np\n",
    "import matplotlib.pyplot as plt\n",
    "import pandas as pd\n",
    "import scipy.stats as stats\n",
    "from scipy.stats import skew\n",
    "import seaborn as sns\n",
    "import sklearn\n",
    "import warnings\n",
    "from sklearn.cross_validation import KFold\n",
    "from sklearn.preprocessing import PolynomialFeatures\n",
    "from sklearn.linear_model import Lasso"
   ]
  },
  {
   "cell_type": "code",
   "execution_count": 2,
   "metadata": {
    "collapsed": true
   },
   "outputs": [],
   "source": [
    "train_clean = pd.read_csv('train_clean.csv', dtype={'MSSubClass': str})  \n",
    "train = pd.read_csv('train.csv', dtype={'MSSubClass': str})"
   ]
  },
  {
   "cell_type": "markdown",
   "metadata": {},
   "source": [
    "Remove outlier records we previously identified as being harmful to the model"
   ]
  },
  {
   "cell_type": "code",
   "execution_count": 3,
   "metadata": {
    "collapsed": false
   },
   "outputs": [],
   "source": [
    "train_clean = train_clean[(train_clean.Id != 1299) & (train_clean.Id != 524)]"
   ]
  },
  {
   "cell_type": "code",
   "execution_count": 4,
   "metadata": {
    "collapsed": true
   },
   "outputs": [],
   "source": [
    "y_train = train_clean['SalePrice']\n",
    "train_clean = train_clean.drop(['SalePrice', 'Id'], axis=1)"
   ]
  },
  {
   "cell_type": "code",
   "execution_count": 5,
   "metadata": {
    "collapsed": false
   },
   "outputs": [
    {
     "name": "stderr",
     "output_type": "stream",
     "text": [
      "/home/ryanryanadmin/anaconda3/lib/python3.6/site-packages/sklearn/grid_search.py:43: DeprecationWarning: This module was deprecated in version 0.18 in favor of the model_selection module into which all the refactored classes and functions are moved. This module will be removed in 0.20.\n",
      "  DeprecationWarning)\n"
     ]
    }
   ],
   "source": [
    "from sklearn.grid_search import GridSearchCV\n",
    "from sklearn.model_selection import cross_val_score\n",
    "def runGSAndGetRMSE(est, params):\n",
    "    gs = GridSearchCV(est, param_grid= params, verbose=5, scoring='neg_mean_squared_error')\n",
    "    gs.fit(train_clean, y_train)\n",
    "    print(np.sqrt(gs.best_score_*-1))\n",
    "    print(gs.best_params_)\n",
    "    return gs.best_estimator_"
   ]
  },
  {
   "cell_type": "code",
   "execution_count": 7,
   "metadata": {
    "collapsed": false
   },
   "outputs": [
    {
     "name": "stdout",
     "output_type": "stream",
     "text": [
      "Fitting 3 folds for each of 3 candidates, totalling 9 fits\n",
      "[CV] alpha=1 .........................................................\n",
      "[CV] ............................... alpha=1, score=-0.014417 -   0.1s\n",
      "[CV] alpha=1 .........................................................\n",
      "[CV] ............................... alpha=1, score=-0.016507 -   0.0s\n",
      "[CV] alpha=1 .........................................................\n",
      "[CV] ............................... alpha=1, score=-0.013941 -   0.0s\n",
      "[CV] alpha=5 .........................................................\n",
      "[CV] ............................... alpha=5, score=-0.012846 -   0.0s\n",
      "[CV] alpha=5 .........................................................\n",
      "[CV] ............................... alpha=5, score=-0.015192 -   0.0s\n",
      "[CV] alpha=5 .........................................................\n"
     ]
    },
    {
     "name": "stderr",
     "output_type": "stream",
     "text": [
      "[Parallel(n_jobs=1)]: Done   1 out of   1 | elapsed:    0.1s remaining:    0.0s\n",
      "[Parallel(n_jobs=1)]: Done   2 out of   2 | elapsed:    0.1s remaining:    0.0s\n",
      "[Parallel(n_jobs=1)]: Done   3 out of   3 | elapsed:    0.2s remaining:    0.0s\n",
      "[Parallel(n_jobs=1)]: Done   4 out of   4 | elapsed:    0.2s remaining:    0.0s\n"
     ]
    },
    {
     "name": "stdout",
     "output_type": "stream",
     "text": [
      "[CV] ............................... alpha=5, score=-0.012677 -   0.0s\n",
      "[CV] alpha=10 ........................................................\n",
      "[CV] .............................. alpha=10, score=-0.012506 -   0.0s\n",
      "[CV] alpha=10 ........................................................\n",
      "[CV] .............................. alpha=10, score=-0.015095 -   0.0s\n",
      "[CV] alpha=10 ........................................................\n",
      "[CV] .............................. alpha=10, score=-0.012441 -   0.0s\n",
      "0.115531302597\n",
      "{'alpha': 10}\n"
     ]
    },
    {
     "name": "stderr",
     "output_type": "stream",
     "text": [
      "[Parallel(n_jobs=1)]: Done   9 out of   9 | elapsed:    0.3s finished\n"
     ]
    }
   ],
   "source": [
    "from sklearn.linear_model import Ridge\n",
    "ridgeP = {'alpha': [1,5, 10]}\n",
    "bestRidge = runGSAndGetRMSE(Ridge(), ridgeP)"
   ]
  },
  {
   "cell_type": "code",
   "execution_count": 8,
   "metadata": {
    "collapsed": false
   },
   "outputs": [
    {
     "name": "stdout",
     "output_type": "stream",
     "text": [
      "Fitting 3 folds for each of 3 candidates, totalling 9 fits\n",
      "[CV] alpha=10 ........................................................\n",
      "[CV] .............................. alpha=10, score=-0.012506 -   0.0s\n",
      "[CV] alpha=10 ........................................................\n",
      "[CV] .............................. alpha=10, score=-0.015095 -   0.0s\n",
      "[CV] alpha=10 ........................................................\n",
      "[CV] .............................. alpha=10, score=-0.012441 -   0.0s\n",
      "[CV] alpha=50 ........................................................\n",
      "[CV] .............................. alpha=50, score=-0.012408 -   0.0s\n",
      "[CV] alpha=50 ........................................................\n",
      "[CV] .............................. alpha=50, score=-0.015740 -   0.0s\n",
      "[CV] alpha=50 ........................................................\n",
      "[CV] .............................. alpha=50, score=-0.012562 -   0.0s\n",
      "[CV] alpha=100 .......................................................\n",
      "[CV] ............................. alpha=100, score=-0.012832 -   0.0s\n",
      "[CV] alpha=100 .......................................................\n"
     ]
    },
    {
     "name": "stderr",
     "output_type": "stream",
     "text": [
      "[Parallel(n_jobs=1)]: Done   1 out of   1 | elapsed:    0.0s remaining:    0.0s\n",
      "[Parallel(n_jobs=1)]: Done   2 out of   2 | elapsed:    0.1s remaining:    0.0s\n",
      "[Parallel(n_jobs=1)]: Done   3 out of   3 | elapsed:    0.1s remaining:    0.0s\n",
      "[Parallel(n_jobs=1)]: Done   4 out of   4 | elapsed:    0.1s remaining:    0.0s\n",
      "[Parallel(n_jobs=1)]: Done   9 out of   9 | elapsed:    0.2s finished\n"
     ]
    },
    {
     "name": "stdout",
     "output_type": "stream",
     "text": [
      "[CV] ............................. alpha=100, score=-0.016414 -   0.0s\n",
      "[CV] alpha=100 .......................................................\n",
      "[CV] ............................. alpha=100, score=-0.012945 -   0.0s\n",
      "0.115531302597\n",
      "{'alpha': 10}\n"
     ]
    }
   ],
   "source": [
    "from sklearn.linear_model import Ridge\n",
    "ridgeP = {'alpha': [10, 50, 100]}\n",
    "bestRidge = runGSAndGetRMSE(Ridge(), ridgeP)"
   ]
  },
  {
   "cell_type": "code",
   "execution_count": 10,
   "metadata": {
    "collapsed": false
   },
   "outputs": [
    {
     "name": "stdout",
     "output_type": "stream",
     "text": [
      "Fitting 3 folds for each of 3 candidates, totalling 9 fits\n",
      "[CV] alpha=15 ........................................................\n",
      "[CV] .............................. alpha=15, score=-0.012378 -   0.1s\n",
      "[CV] alpha=15 ........................................................\n",
      "[CV] .............................. alpha=15, score=-0.015146 -   0.0s\n",
      "[CV] alpha=15 ........................................................\n",
      "[CV] .............................. alpha=15, score=-0.012387 -   0.0s\n",
      "[CV] alpha=25 ........................................................\n",
      "[CV] .............................. alpha=25, score=-0.012304 -   0.0s\n",
      "[CV] alpha=25 ........................................................\n",
      "[CV] .............................. alpha=25, score=-0.015318 -   0.0s\n",
      "[CV] alpha=25 ........................................................\n"
     ]
    },
    {
     "name": "stderr",
     "output_type": "stream",
     "text": [
      "[Parallel(n_jobs=1)]: Done   1 out of   1 | elapsed:    0.1s remaining:    0.0s\n",
      "[Parallel(n_jobs=1)]: Done   2 out of   2 | elapsed:    0.1s remaining:    0.0s\n",
      "[Parallel(n_jobs=1)]: Done   3 out of   3 | elapsed:    0.1s remaining:    0.0s\n",
      "[Parallel(n_jobs=1)]: Done   4 out of   4 | elapsed:    0.2s remaining:    0.0s\n"
     ]
    },
    {
     "name": "stdout",
     "output_type": "stream",
     "text": [
      "[CV] .............................. alpha=25, score=-0.012400 -   0.0s\n",
      "[CV] alpha=35 ........................................................\n",
      "[CV] .............................. alpha=35, score=-0.012320 -   0.0s\n",
      "[CV] alpha=35 ........................................................\n",
      "[CV] .............................. alpha=35, score=-0.015495 -   0.0s\n",
      "[CV] alpha=35 ........................................................\n",
      "[CV] .............................. alpha=35, score=-0.012457 -   0.0s\n",
      "0.115342396624\n",
      "{'alpha': 15}\n"
     ]
    },
    {
     "name": "stderr",
     "output_type": "stream",
     "text": [
      "[Parallel(n_jobs=1)]: Done   9 out of   9 | elapsed:    0.3s finished\n"
     ]
    }
   ],
   "source": [
    "from sklearn.linear_model import Ridge\n",
    "ridgeP = {'alpha': [15, 25,35]}\n",
    "bestRidge = runGSAndGetRMSE(Ridge(), ridgeP)"
   ]
  }
 ],
 "metadata": {
  "kernelspec": {
   "display_name": "Python 3",
   "language": "python",
   "name": "python3"
  },
  "language_info": {
   "codemirror_mode": {
    "name": "ipython",
    "version": 3
   },
   "file_extension": ".py",
   "mimetype": "text/x-python",
   "name": "python",
   "nbconvert_exporter": "python",
   "pygments_lexer": "ipython3",
   "version": "3.6.0"
  }
 },
 "nbformat": 4,
 "nbformat_minor": 0
}
