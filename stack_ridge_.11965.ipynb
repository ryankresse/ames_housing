{
 "cells": [
  {
   "cell_type": "code",
   "execution_count": 80,
   "metadata": {
    "collapsed": false
   },
   "outputs": [],
   "source": [
    "%matplotlib inline\n",
    "import numpy as np\n",
    "import matplotlib.pyplot as plt\n",
    "import pandas as pd\n",
    "import scipy.stats as stats\n",
    "from scipy.stats import skew\n",
    "import seaborn as sns\n",
    "import sklearn\n",
    "import warnings\n",
    "from sklearn.cross_validation import KFold\n",
    "from sklearn.preprocessing import PolynomialFeatures\n",
    "from sklearn.linear_model import Lasso\n",
    "import xgboost as xgb\n",
    "from sklearn.linear_model import Lasso\n"
   ]
  },
  {
   "cell_type": "code",
   "execution_count": 252,
   "metadata": {
    "collapsed": true
   },
   "outputs": [],
   "source": [
    "train_clean = pd.read_csv('train_clean.csv', dtype={'MSSubClass': str})  \n",
    "train = pd.read_csv('train.csv', dtype={'MSSubClass': str})"
   ]
  },
  {
   "cell_type": "markdown",
   "metadata": {},
   "source": [
    "Remove outlier records we previously identified as being harmful to the model"
   ]
  },
  {
   "cell_type": "code",
   "execution_count": 253,
   "metadata": {
    "collapsed": false
   },
   "outputs": [],
   "source": [
    "train_clean = train_clean[(train_clean.Id != 1299) & (train_clean.Id != 524)]"
   ]
  },
  {
   "cell_type": "code",
   "execution_count": 254,
   "metadata": {
    "collapsed": false
   },
   "outputs": [
    {
     "name": "stderr",
     "output_type": "stream",
     "text": [
      "/home/ryanryanadmin/anaconda3/lib/python3.6/site-packages/ipykernel/__main__.py:11: SettingWithCopyWarning: \n",
      "A value is trying to be set on a copy of a slice from a DataFrame.\n",
      "Try using .loc[row_indexer,col_indexer] = value instead\n",
      "\n",
      "See the caveats in the documentation: http://pandas.pydata.org/pandas-docs/stable/indexing.html#indexing-view-versus-copy\n",
      "/home/ryanryanadmin/anaconda3/lib/python3.6/site-packages/ipykernel/__main__.py:12: SettingWithCopyWarning: \n",
      "A value is trying to be set on a copy of a slice from a DataFrame.\n",
      "Try using .loc[row_indexer,col_indexer] = value instead\n",
      "\n",
      "See the caveats in the documentation: http://pandas.pydata.org/pandas-docs/stable/indexing.html#indexing-view-versus-copy\n"
     ]
    }
   ],
   "source": [
    "div = len(train_clean) // 5\n",
    "train_clean['fold'] = 999\n",
    "train_clean['m1'] = 0\n",
    "train_clean['m2'] = 0\n",
    "train_shuf = train_clean.sample(frac=1).copy()\n",
    "\n",
    "\n",
    "for i in range(1, 6):\n",
    "    start = div*i - div\n",
    "    end = div*i\n",
    "    train_shuf.iloc[start:end,:]['fold']= i\n",
    "train_shuf.iloc[end:]['fold'] = 5    "
   ]
  },
  {
   "cell_type": "code",
   "execution_count": 255,
   "metadata": {
    "collapsed": false
   },
   "outputs": [
    {
     "name": "stdout",
     "output_type": "stream",
     "text": [
      "635     1\n",
      "309     1\n",
      "1349    1\n",
      "1164    1\n",
      "913     1\n",
      "Name: fold, dtype: int64\n"
     ]
    },
    {
     "data": {
      "text/plain": [
       "1342    5\n",
       "363     5\n",
       "135     5\n",
       "402     5\n",
       "110     5\n",
       "Name: fold, dtype: int64"
      ]
     },
     "execution_count": 255,
     "metadata": {},
     "output_type": "execute_result"
    }
   ],
   "source": [
    "print(train_shuf.fold.head())\n",
    "train_shuf.fold.tail()"
   ]
  },
  {
   "cell_type": "code",
   "execution_count": 256,
   "metadata": {
    "collapsed": false
   },
   "outputs": [
    {
     "name": "stderr",
     "output_type": "stream",
     "text": [
      "/home/ryanryanadmin/anaconda3/lib/python3.6/site-packages/ipykernel/__main__.py:4: UserWarning: Boolean Series key will be reindexed to match DataFrame index.\n",
      "/home/ryanryanadmin/anaconda3/lib/python3.6/site-packages/ipykernel/__main__.py:11: SettingWithCopyWarning: \n",
      "A value is trying to be set on a copy of a slice from a DataFrame.\n",
      "Try using .loc[row_indexer,col_indexer] = value instead\n",
      "\n",
      "See the caveats in the documentation: http://pandas.pydata.org/pandas-docs/stable/indexing.html#indexing-view-versus-copy\n",
      "/home/ryanryanadmin/anaconda3/lib/python3.6/site-packages/ipykernel/__main__.py:18: SettingWithCopyWarning: \n",
      "A value is trying to be set on a copy of a slice from a DataFrame.\n",
      "Try using .loc[row_indexer,col_indexer] = value instead\n",
      "\n",
      "See the caveats in the documentation: http://pandas.pydata.org/pandas-docs/stable/indexing.html#indexing-view-versus-copy\n"
     ]
    }
   ],
   "source": [
    "test_folds = []\n",
    "for i in train_shuf.fold.unique():\n",
    "    test = train_shuf[train_shuf.fold == i]\n",
    "    tr = train_clean[train_shuf.fold != i]\n",
    "    X_tr =  tr.drop(['SalePrice', 'Id', 'fold'], axis=1)\n",
    "    X_test =  test.drop(['SalePrice', 'Id', 'fold'], axis=1)\n",
    "    y_tr = tr['SalePrice']    \n",
    "    \n",
    "    ls = Lasso(alpha=0.001)\n",
    "    ls.fit(X_tr, y_tr)\n",
    "    test['m1'] = ls.predict(X_test)\n",
    "    \n",
    "    params = {'eta':0.01, 'max_depth':4, 'min_child_weight':4, 'subsample':0.4, 'colsample_bytree':0.8, 'scale_pos_weight':1}\n",
    "    dtr = xgb.DMatrix(X_tr, y_tr)\n",
    "    dtest = xgb.DMatrix(X_test)\n",
    "    num_rounds = 1334\n",
    "    bst = xgb.train(params, dtr, num_rounds)\n",
    "    test['m2'] = bst.predict(dtest)\n",
    "    \n",
    "    test_folds.append(test)"
   ]
  },
  {
   "cell_type": "code",
   "execution_count": 257,
   "metadata": {
    "collapsed": false
   },
   "outputs": [],
   "source": [
    "tr_meta = pd.concat(test_folds)"
   ]
  },
  {
   "cell_type": "code",
   "execution_count": 258,
   "metadata": {
    "collapsed": false
   },
   "outputs": [],
   "source": [
    "test_set = pd.read_csv('test_clean.csv', dtype={'MSSubClass': str})\n",
    "ids = test_set.Id.values\n",
    "test_set = test_set.drop('Id', axis=1)\n"
   ]
  },
  {
   "cell_type": "code",
   "execution_count": 259,
   "metadata": {
    "collapsed": false
   },
   "outputs": [
    {
     "data": {
      "text/plain": [
       "Lasso(alpha=0.001, copy_X=True, fit_intercept=True, max_iter=1000,\n",
       "   normalize=False, positive=False, precompute=False, random_state=None,\n",
       "   selection='cyclic', tol=0.0001, warm_start=False)"
      ]
     },
     "execution_count": 259,
     "metadata": {},
     "output_type": "execute_result"
    }
   ],
   "source": [
    "X_tr =  train_clean.drop(['SalePrice', 'm1', 'm2', 'fold', 'Id'], axis=1)\n",
    "y_tr = train_clean['SalePrice']    \n",
    "ls = Lasso(alpha=0.001)\n",
    "ls.fit(X_tr, y_tr)\n"
   ]
  },
  {
   "cell_type": "code",
   "execution_count": 262,
   "metadata": {
    "collapsed": false
   },
   "outputs": [],
   "source": [
    "params = {'eta':0.01, 'max_depth':4, 'min_child_weight':4, 'subsample':0.4, 'colsample_bytree':0.8, 'scale_pos_weight':1}\n",
    "dtr = xgb.DMatrix(X_tr, y_tr)\n",
    "dtest = xgb.DMatrix(test_set)\n",
    "num_rounds = 1334\n",
    "bst = xgb.train(params, dtr, num_rounds)\n",
    "test_set['m1'] = ls.predict(test_set)\n",
    "test_set['m2'] = bst.predict(dtest)\n"
   ]
  },
  {
   "cell_type": "code",
   "execution_count": 263,
   "metadata": {
    "collapsed": true
   },
   "outputs": [],
   "source": [
    "from sklearn.linear_model import Ridge"
   ]
  },
  {
   "cell_type": "code",
   "execution_count": 264,
   "metadata": {
    "collapsed": false
   },
   "outputs": [
    {
     "name": "stdout",
     "output_type": "stream",
     "text": [
      "0.108818596046\n",
      "0.120340929456\n",
      "0.122507017895\n",
      "0.107155743107\n",
      "0.0973629881813\n",
      "mean score: 0.1112370549371621\n"
     ]
    }
   ],
   "source": [
    "scores = []\n",
    "for i in tr_meta.fold.unique():\n",
    "    test = tr_meta[train_shuf.fold == i]\n",
    "    tr = tr_meta[tr_meta.fold != i]\n",
    "    X_tr =  tr[['m1', 'm2']]\n",
    "    X_test =  test[['m1', 'm2']]\n",
    "    y_test = test['SalePrice']\n",
    "    y_tr = tr['SalePrice']    \n",
    "    \n",
    "    r = Ridge(alpha=0.001)\n",
    "    r.fit(X_tr, y_tr)\n",
    "    preds = r.predict(X_test)\n",
    "    score = np.sqrt(np.mean((y_test.values - preds) **2))\n",
    "    print(score)\n",
    "    scores.append(score)\n",
    "print('mean score: {}'.format(np.mean(scores)))"
   ]
  },
  {
   "cell_type": "code",
   "execution_count": 265,
   "metadata": {
    "collapsed": false
   },
   "outputs": [
    {
     "name": "stdout",
     "output_type": "stream",
     "text": [
      "0.108641372373\n",
      "0.120221364844\n",
      "0.122221069959\n",
      "0.107178411362\n",
      "0.0975022137439\n",
      "mean score: 0.1111528864563786\n"
     ]
    }
   ],
   "source": [
    "scores = []\n",
    "for i in tr_meta.fold.unique():\n",
    "    test = tr_meta[train_shuf.fold == i]\n",
    "    tr = tr_meta[tr_meta.fold != i]\n",
    "    X_tr =  tr[['m1', 'm2']]\n",
    "    X_test =  test[['m1', 'm2']]\n",
    "    y_test = test['SalePrice']\n",
    "    y_tr = tr['SalePrice']    \n",
    "    \n",
    "    r = Ridge(alpha=1)\n",
    "    r.fit(X_tr, y_tr)\n",
    "    preds = r.predict(X_test)\n",
    "    score = np.sqrt(np.mean((y_test.values - preds) **2))\n",
    "    print(score)\n",
    "    scores.append(score)\n",
    "print('mean score: {}'.format(np.mean(scores)))"
   ]
  },
  {
   "cell_type": "code",
   "execution_count": 266,
   "metadata": {
    "collapsed": false
   },
   "outputs": [
    {
     "name": "stdout",
     "output_type": "stream",
     "text": [
      "0.108641372373\n",
      "0.120221364844\n",
      "0.122221069959\n",
      "0.107178411362\n",
      "0.0975022137439\n",
      "mean score: 0.1111528864563786\n"
     ]
    }
   ],
   "source": [
    "scores = []\n",
    "for i in tr_meta.fold.unique():\n",
    "    test = tr_meta[train_shuf.fold == i]\n",
    "    tr = tr_meta[tr_meta.fold != i]\n",
    "    X_tr =  tr[['m1', 'm2']]\n",
    "    X_test =  test[['m1', 'm2']]\n",
    "    y_test = test['SalePrice']\n",
    "    y_tr = tr['SalePrice']    \n",
    "    \n",
    "    r = Ridge(alpha=1)\n",
    "    r.fit(X_tr, y_tr)\n",
    "    preds = r.predict(X_test)\n",
    "    score = np.sqrt(np.mean((y_test.values - preds) **2))\n",
    "    print(score)\n",
    "    scores.append(score)\n",
    "print('mean score: {}'.format(np.mean(scores)))"
   ]
  },
  {
   "cell_type": "code",
   "execution_count": 226,
   "metadata": {
    "collapsed": false
   },
   "outputs": [
    {
     "name": "stdout",
     "output_type": "stream",
     "text": [
      "0.106179148556\n",
      "0.120641671575\n",
      "0.096292289387\n",
      "0.107746565643\n",
      "0.122642999108\n",
      "mean score: 0.11070053485381312\n"
     ]
    }
   ],
   "source": [
    "scores = []\n",
    "for i in tr_meta.fold.unique():\n",
    "    test = tr_meta[train_shuf.fold == i]\n",
    "    tr = tr_meta[tr_meta.fold != i]\n",
    "    X_tr =  tr[['m1', 'm2', 'OverallQual']]\n",
    "    X_test =  test[['m1', 'm2', 'OverallQual']]\n",
    "    y_test = test['SalePrice']\n",
    "    y_tr = tr['SalePrice']    \n",
    "    \n",
    "    r = Ridge(alpha=1)\n",
    "    r.fit(X_tr, y_tr)\n",
    "    preds = r.predict(X_test)\n",
    "    score = np.sqrt(np.mean((y_test.values - preds) **2))\n",
    "    print(score)\n",
    "    scores.append(score)\n",
    "print('mean score: {}'.format(np.mean(scores)))"
   ]
  },
  {
   "cell_type": "code",
   "execution_count": 267,
   "metadata": {
    "collapsed": false
   },
   "outputs": [
    {
     "name": "stdout",
     "output_type": "stream",
     "text": [
      "0.109880372962\n",
      "0.119944922996\n",
      "0.122628149096\n",
      "0.107045881273\n",
      "0.0979175643534\n",
      "mean score: 0.11148337813611345\n"
     ]
    }
   ],
   "source": [
    "scores = []\n",
    "for i in tr_meta.fold.unique():\n",
    "    test = tr_meta[train_shuf.fold == i]\n",
    "    tr = tr_meta[tr_meta.fold != i]\n",
    "    X_tr =  tr[['m1', 'm2', 'GrLivArea', 'OverallQual']]\n",
    "    X_test =  test[['m1', 'm2', 'GrLivArea', 'OverallQual']]\n",
    "    y_test = test['SalePrice']\n",
    "    y_tr = tr['SalePrice']    \n",
    "    \n",
    "    r = Ridge(alpha=1)\n",
    "    r.fit(X_tr, y_tr)\n",
    "    preds = r.predict(X_test)\n",
    "    score = np.sqrt(np.mean((y_test.values - preds) **2))\n",
    "    print(score)\n",
    "    scores.append(score)\n",
    "print('mean score: {}'.format(np.mean(scores)))"
   ]
  },
  {
   "cell_type": "code",
   "execution_count": 272,
   "metadata": {
    "collapsed": false
   },
   "outputs": [
    {
     "data": {
      "text/plain": [
       "Ridge(alpha=1, copy_X=True, fit_intercept=True, max_iter=None,\n",
       "   normalize=False, random_state=None, solver='auto', tol=0.001)"
      ]
     },
     "execution_count": 272,
     "metadata": {},
     "output_type": "execute_result"
    }
   ],
   "source": [
    "X_tr =  tr_meta[['m1', 'm2', 'OverallQual']]\n",
    "y_tr = tr_meta['SalePrice']    \n",
    "X_test =  test_set[['m1', 'm2', 'OverallQual']]\n",
    "\n",
    "\n",
    "\n",
    "r = Ridge(alpha=1)\n",
    "r.fit(X_tr, y_tr)\n"
   ]
  },
  {
   "cell_type": "code",
   "execution_count": 273,
   "metadata": {
    "collapsed": true
   },
   "outputs": [],
   "source": [
    "preds = np.expm1(r.predict(X_test))"
   ]
  },
  {
   "cell_type": "code",
   "execution_count": 274,
   "metadata": {
    "collapsed": false
   },
   "outputs": [
    {
     "data": {
      "text/plain": [
       "(1459,)"
      ]
     },
     "execution_count": 274,
     "metadata": {},
     "output_type": "execute_result"
    }
   ],
   "source": [
    "preds.shape"
   ]
  },
  {
   "cell_type": "code",
   "execution_count": 275,
   "metadata": {
    "collapsed": false
   },
   "outputs": [
    {
     "data": {
      "text/plain": [
       "(1459,)"
      ]
     },
     "execution_count": 275,
     "metadata": {},
     "output_type": "execute_result"
    }
   ],
   "source": [
    "ids.shape"
   ]
  },
  {
   "cell_type": "code",
   "execution_count": 276,
   "metadata": {
    "collapsed": false
   },
   "outputs": [],
   "source": [
    "solution = pd.DataFrame({\"id\":ids, \"SalePrice\":preds}, columns=['id', 'SalePrice'])\n",
    "\n",
    "solution.to_csv(\"stack.csv\", index = False)"
   ]
  },
  {
   "cell_type": "markdown",
   "metadata": {},
   "source": [
    "This one scores 0.11965"
   ]
  },
  {
   "cell_type": "markdown",
   "metadata": {},
   "source": [
    "Let's save the model so we can use it later"
   ]
  },
  {
   "cell_type": "code",
   "execution_count": 115,
   "metadata": {
    "collapsed": false
   },
   "outputs": [
    {
     "data": {
      "text/plain": [
       "['poly_features_35_2.pkl']"
      ]
     },
     "execution_count": 115,
     "metadata": {},
     "output_type": "execute_result"
    }
   ],
   "source": [
    "from sklearn.externals import joblib\n",
    "joblib.dump(bestLassoEst, 'poly_features_35_2.pkl')"
   ]
  },
  {
   "cell_type": "code",
   "execution_count": null,
   "metadata": {
    "collapsed": true
   },
   "outputs": [],
   "source": []
  }
 ],
 "metadata": {
  "kernelspec": {
   "display_name": "Python 3",
   "language": "python",
   "name": "python3"
  },
  "language_info": {
   "codemirror_mode": {
    "name": "ipython",
    "version": 3
   },
   "file_extension": ".py",
   "mimetype": "text/x-python",
   "name": "python",
   "nbconvert_exporter": "python",
   "pygments_lexer": "ipython3",
   "version": "3.6.0"
  }
 },
 "nbformat": 4,
 "nbformat_minor": 0
}
