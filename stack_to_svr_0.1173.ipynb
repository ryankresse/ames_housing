{
 "cells": [
  {
   "cell_type": "code",
   "execution_count": 9,
   "metadata": {
    "collapsed": false
   },
   "outputs": [],
   "source": [
    "%matplotlib inline\n",
    "import numpy as np\n",
    "import matplotlib.pyplot as plt\n",
    "import pandas as pd\n",
    "import scipy.stats as stats\n",
    "from scipy.stats import skew\n",
    "import seaborn as sns\n",
    "import sklearn\n",
    "import pdb\n",
    "import warnings\n",
    "from sklearn.cross_validation import KFold\n",
    "from sklearn.preprocessing import PolynomialFeatures\n",
    "from sklearn.linear_model import Lasso\n",
    "import xgboost as xgb\n",
    "from sklearn.neighbors import KNeighborsRegressor\n",
    "from sklearn.ensemble import RandomForestRegressor\n",
    "from sklearn.linear_model import HuberRegressor\n",
    "from sklearn.svm import SVR\n",
    "from sklearn.linear_model import Ridge"
   ]
  },
  {
   "cell_type": "code",
   "execution_count": 14,
   "metadata": {
    "collapsed": true
   },
   "outputs": [],
   "source": [
    "train_clean = pd.read_csv('train_clean.csv', dtype={'MSSubClass': str})  \n",
    "train = pd.read_csv('train.csv', dtype={'MSSubClass': str})"
   ]
  },
  {
   "cell_type": "markdown",
   "metadata": {},
   "source": [
    "#### This notebook follows the stacking approach explained [here](http://blog.kaggle.com/2016/12/27/a-kagglers-guide-to-model-stacking-in-practice/)."
   ]
  },
  {
   "cell_type": "markdown",
   "metadata": {},
   "source": [
    "Remove outlier records we previously identified as being harmful to the model"
   ]
  },
  {
   "cell_type": "code",
   "execution_count": 15,
   "metadata": {
    "collapsed": true
   },
   "outputs": [],
   "source": [
    "train_clean = train_clean[(train_clean.Id != 1299) & (train_clean.Id != 524)]"
   ]
  },
  {
   "cell_type": "markdown",
   "metadata": {},
   "source": [
    "Split the data into five folds"
   ]
  },
  {
   "cell_type": "code",
   "execution_count": 16,
   "metadata": {
    "collapsed": false
   },
   "outputs": [
    {
     "name": "stdout",
     "output_type": "stream",
     "text": [
      "930    1\n",
      "89     1\n",
      "122    1\n",
      "769    1\n",
      "111    1\n",
      "Name: fold, dtype: int64\n"
     ]
    },
    {
     "data": {
      "text/plain": [
       "1263    5\n",
       "1212    5\n",
       "890     5\n",
       "1393    5\n",
       "1112    5\n",
       "Name: fold, dtype: int64"
      ]
     },
     "execution_count": 16,
     "metadata": {},
     "output_type": "execute_result"
    }
   ],
   "source": [
    "div = len(train_clean) // 5\n",
    "train_clean = train_clean.assign(fold=0)\n",
    "train_shuf = train_clean.sample(frac=1).copy()\n",
    "\n",
    "for i in range(1, 6):\n",
    "    start = div*i - div\n",
    "    end = div*i\n",
    "    train_shuf.iloc[start:end,-1]= i #fold is added as last column, so we can use -1 to select it\n",
    "train_shuf.iloc[end:, -1] = 5   #left overs go in last fold\n",
    "\n",
    "print(train_shuf.fold.head())\n",
    "train_shuf.fold.tail()"
   ]
  },
  {
   "cell_type": "markdown",
   "metadata": {},
   "source": [
    "We loop through the folds we created. Inside the loop, we fit each base model on all the folds except the current fold, then make predictions on the current fold. These predictions will be the features we feed into our meta-model later. This process of dividing into folds prevents leakage of sales price information into these features.\n",
    "\n",
    "Note that hyperparameters for our base models have been determined by expermentation in other notebooks in this project."
   ]
  },
  {
   "cell_type": "code",
   "execution_count": 18,
   "metadata": {
    "collapsed": false
   },
   "outputs": [
    {
     "name": "stderr",
     "output_type": "stream",
     "text": [
      "/home/ryanryanadmin/anaconda3/lib/python3.6/site-packages/pandas/core/indexing.py:357: SettingWithCopyWarning: \n",
      "A value is trying to be set on a copy of a slice from a DataFrame.\n",
      "Try using .loc[row_indexer,col_indexer] = value instead\n",
      "\n",
      "See the caveats in the documentation: http://pandas.pydata.org/pandas-docs/stable/indexing.html#indexing-view-versus-copy\n",
      "  self.obj[key] = _infer_fill_value(value)\n",
      "/home/ryanryanadmin/anaconda3/lib/python3.6/site-packages/pandas/core/indexing.py:537: SettingWithCopyWarning: \n",
      "A value is trying to be set on a copy of a slice from a DataFrame.\n",
      "Try using .loc[row_indexer,col_indexer] = value instead\n",
      "\n",
      "See the caveats in the documentation: http://pandas.pydata.org/pandas-docs/stable/indexing.html#indexing-view-versus-copy\n",
      "  self.obj[item] = s\n",
      "/home/ryanryanadmin/anaconda3/lib/python3.6/site-packages/pandas/core/indexing.py:357: SettingWithCopyWarning: \n",
      "A value is trying to be set on a copy of a slice from a DataFrame.\n",
      "Try using .loc[row_indexer,col_indexer] = value instead\n",
      "\n",
      "See the caveats in the documentation: http://pandas.pydata.org/pandas-docs/stable/indexing.html#indexing-view-versus-copy\n",
      "  self.obj[key] = _infer_fill_value(value)\n",
      "/home/ryanryanadmin/anaconda3/lib/python3.6/site-packages/pandas/core/indexing.py:537: SettingWithCopyWarning: \n",
      "A value is trying to be set on a copy of a slice from a DataFrame.\n",
      "Try using .loc[row_indexer,col_indexer] = value instead\n",
      "\n",
      "See the caveats in the documentation: http://pandas.pydata.org/pandas-docs/stable/indexing.html#indexing-view-versus-copy\n",
      "  self.obj[item] = s\n",
      "/home/ryanryanadmin/anaconda3/lib/python3.6/site-packages/pandas/core/indexing.py:357: SettingWithCopyWarning: \n",
      "A value is trying to be set on a copy of a slice from a DataFrame.\n",
      "Try using .loc[row_indexer,col_indexer] = value instead\n",
      "\n",
      "See the caveats in the documentation: http://pandas.pydata.org/pandas-docs/stable/indexing.html#indexing-view-versus-copy\n",
      "  self.obj[key] = _infer_fill_value(value)\n",
      "/home/ryanryanadmin/anaconda3/lib/python3.6/site-packages/pandas/core/indexing.py:537: SettingWithCopyWarning: \n",
      "A value is trying to be set on a copy of a slice from a DataFrame.\n",
      "Try using .loc[row_indexer,col_indexer] = value instead\n",
      "\n",
      "See the caveats in the documentation: http://pandas.pydata.org/pandas-docs/stable/indexing.html#indexing-view-versus-copy\n",
      "  self.obj[item] = s\n",
      "/home/ryanryanadmin/anaconda3/lib/python3.6/site-packages/pandas/core/indexing.py:357: SettingWithCopyWarning: \n",
      "A value is trying to be set on a copy of a slice from a DataFrame.\n",
      "Try using .loc[row_indexer,col_indexer] = value instead\n",
      "\n",
      "See the caveats in the documentation: http://pandas.pydata.org/pandas-docs/stable/indexing.html#indexing-view-versus-copy\n",
      "  self.obj[key] = _infer_fill_value(value)\n",
      "/home/ryanryanadmin/anaconda3/lib/python3.6/site-packages/pandas/core/indexing.py:537: SettingWithCopyWarning: \n",
      "A value is trying to be set on a copy of a slice from a DataFrame.\n",
      "Try using .loc[row_indexer,col_indexer] = value instead\n",
      "\n",
      "See the caveats in the documentation: http://pandas.pydata.org/pandas-docs/stable/indexing.html#indexing-view-versus-copy\n",
      "  self.obj[item] = s\n",
      "/home/ryanryanadmin/anaconda3/lib/python3.6/site-packages/pandas/core/indexing.py:357: SettingWithCopyWarning: \n",
      "A value is trying to be set on a copy of a slice from a DataFrame.\n",
      "Try using .loc[row_indexer,col_indexer] = value instead\n",
      "\n",
      "See the caveats in the documentation: http://pandas.pydata.org/pandas-docs/stable/indexing.html#indexing-view-versus-copy\n",
      "  self.obj[key] = _infer_fill_value(value)\n",
      "/home/ryanryanadmin/anaconda3/lib/python3.6/site-packages/pandas/core/indexing.py:537: SettingWithCopyWarning: \n",
      "A value is trying to be set on a copy of a slice from a DataFrame.\n",
      "Try using .loc[row_indexer,col_indexer] = value instead\n",
      "\n",
      "See the caveats in the documentation: http://pandas.pydata.org/pandas-docs/stable/indexing.html#indexing-view-versus-copy\n",
      "  self.obj[item] = s\n",
      "/home/ryanryanadmin/anaconda3/lib/python3.6/site-packages/pandas/core/indexing.py:357: SettingWithCopyWarning: \n",
      "A value is trying to be set on a copy of a slice from a DataFrame.\n",
      "Try using .loc[row_indexer,col_indexer] = value instead\n",
      "\n",
      "See the caveats in the documentation: http://pandas.pydata.org/pandas-docs/stable/indexing.html#indexing-view-versus-copy\n",
      "  self.obj[key] = _infer_fill_value(value)\n",
      "/home/ryanryanadmin/anaconda3/lib/python3.6/site-packages/pandas/core/indexing.py:537: SettingWithCopyWarning: \n",
      "A value is trying to be set on a copy of a slice from a DataFrame.\n",
      "Try using .loc[row_indexer,col_indexer] = value instead\n",
      "\n",
      "See the caveats in the documentation: http://pandas.pydata.org/pandas-docs/stable/indexing.html#indexing-view-versus-copy\n",
      "  self.obj[item] = s\n"
     ]
    }
   ],
   "source": [
    "test_folds = []\n",
    "for i in train_shuf.fold.unique():\n",
    "    test = train_shuf[train_shuf.fold == i]\n",
    "    tr = train_shuf[train_shuf.fold != i]\n",
    "    #tr = train_clean[train_shuf.fold != i]\n",
    "    X_tr =  tr.drop(['SalePrice', 'Id', 'fold'], axis=1)\n",
    "    X_test =  test.drop(['SalePrice', 'Id', 'fold'], axis=1)\n",
    "    y_tr = tr.loc[:,'SalePrice']    \n",
    "\n",
    "    ls = Lasso(alpha=0.001)\n",
    "    ls.fit(X_tr, y_tr)\n",
    "    test.loc[:,'m1'] = ls.predict(X_test)\n",
    "    \n",
    "    params = {'eta':0.01, 'max_depth':4, 'min_child_weight':4, 'subsample':0.4, 'colsample_bytree':0.8, 'scale_pos_weight':1}\n",
    "    dtr = xgb.DMatrix(X_tr, y_tr)\n",
    "    dtest = xgb.DMatrix(X_test)\n",
    "    num_rounds = 1334\n",
    "    bst = xgb.train(params, dtr, num_rounds)\n",
    "    test.loc[:,'m2'] = bst.predict(dtest)\n",
    "    \n",
    "    knn = KNeighborsRegressor(n_neighbors=8)\n",
    "    knn.fit(X_tr, y_tr)\n",
    "    test.loc[:,'m3'] = knn.predict(X_test)\n",
    "    \n",
    "                    \n",
    "                    \n",
    "    rf= RandomForestRegressor(max_depth=9, n_estimators=45)\n",
    "    rf.fit(X_tr, y_tr)\n",
    "    test.loc[:,'m4'] = rf.predict(X_test)\n",
    "\n",
    "    hb= HuberRegressor(epsilon=1.25)\n",
    "    hb.fit(X_tr, y_tr)\n",
    "    test.loc[:,'m5'] = hb.predict(X_test)\n",
    "\n",
    "    r= Ridge(alpha=15)\n",
    "    r.fit(X_tr, y_tr)\n",
    "    test.loc[:, 'm6'] = r.predict(X_test)    \n",
    "    \n",
    "    test_folds.append(test)"
   ]
  },
  {
   "cell_type": "code",
   "execution_count": 19,
   "metadata": {
    "collapsed": true
   },
   "outputs": [],
   "source": [
    "tr_meta = pd.concat(test_folds)"
   ]
  },
  {
   "cell_type": "code",
   "execution_count": 24,
   "metadata": {
    "collapsed": false
   },
   "outputs": [
    {
     "data": {
      "text/html": [
       "<div>\n",
       "<style scoped>\n",
       "    .dataframe tbody tr th:only-of-type {\n",
       "        vertical-align: middle;\n",
       "    }\n",
       "\n",
       "    .dataframe tbody tr th {\n",
       "        vertical-align: top;\n",
       "    }\n",
       "\n",
       "    .dataframe thead th {\n",
       "        text-align: right;\n",
       "    }\n",
       "</style>\n",
       "<table border=\"1\" class=\"dataframe\">\n",
       "  <thead>\n",
       "    <tr style=\"text-align: right;\">\n",
       "      <th></th>\n",
       "      <th>m1</th>\n",
       "      <th>m2</th>\n",
       "      <th>m3</th>\n",
       "      <th>m4</th>\n",
       "      <th>m5</th>\n",
       "      <th>m6</th>\n",
       "    </tr>\n",
       "  </thead>\n",
       "  <tbody>\n",
       "    <tr>\n",
       "      <th>930</th>\n",
       "      <td>12.304979</td>\n",
       "      <td>12.310223</td>\n",
       "      <td>12.199615</td>\n",
       "      <td>12.392673</td>\n",
       "      <td>12.339940</td>\n",
       "      <td>12.262643</td>\n",
       "    </tr>\n",
       "    <tr>\n",
       "      <th>89</th>\n",
       "      <td>11.686624</td>\n",
       "      <td>11.698879</td>\n",
       "      <td>11.588229</td>\n",
       "      <td>11.684445</td>\n",
       "      <td>11.643924</td>\n",
       "      <td>11.699539</td>\n",
       "    </tr>\n",
       "    <tr>\n",
       "      <th>122</th>\n",
       "      <td>11.861140</td>\n",
       "      <td>11.878616</td>\n",
       "      <td>11.813866</td>\n",
       "      <td>11.829899</td>\n",
       "      <td>11.870404</td>\n",
       "      <td>11.862354</td>\n",
       "    </tr>\n",
       "    <tr>\n",
       "      <th>769</th>\n",
       "      <td>13.032097</td>\n",
       "      <td>13.070211</td>\n",
       "      <td>12.840238</td>\n",
       "      <td>12.886018</td>\n",
       "      <td>13.068641</td>\n",
       "      <td>13.123636</td>\n",
       "    </tr>\n",
       "    <tr>\n",
       "      <th>111</th>\n",
       "      <td>12.117168</td>\n",
       "      <td>12.068261</td>\n",
       "      <td>12.235435</td>\n",
       "      <td>12.021047</td>\n",
       "      <td>12.130108</td>\n",
       "      <td>12.132389</td>\n",
       "    </tr>\n",
       "  </tbody>\n",
       "</table>\n",
       "</div>"
      ],
      "text/plain": [
       "            m1         m2         m3         m4         m5         m6\n",
       "930  12.304979  12.310223  12.199615  12.392673  12.339940  12.262643\n",
       "89   11.686624  11.698879  11.588229  11.684445  11.643924  11.699539\n",
       "122  11.861140  11.878616  11.813866  11.829899  11.870404  11.862354\n",
       "769  13.032097  13.070211  12.840238  12.886018  13.068641  13.123636\n",
       "111  12.117168  12.068261  12.235435  12.021047  12.130108  12.132389"
      ]
     },
     "execution_count": 24,
     "metadata": {},
     "output_type": "execute_result"
    }
   ],
   "source": [
    "tr_meta.iloc[:, -6:].head()"
   ]
  },
  {
   "cell_type": "code",
   "execution_count": 28,
   "metadata": {
    "collapsed": true
   },
   "outputs": [],
   "source": [
    "test_set = pd.read_csv('test_clean.csv', dtype={'MSSubClass': str})\n",
    "ids = test_set.Id.values\n",
    "test_set = test_set.drop('Id', axis=1)\n"
   ]
  },
  {
   "cell_type": "markdown",
   "metadata": {},
   "source": [
    "We fit each of our base models on the entire training set, then use these models to make predictions on the test set. Once we've trained our meta-model, we will feed these predictions into it as features in order to get the housing prices for the test set that we will submit to Kaggle. "
   ]
  },
  {
   "cell_type": "code",
   "execution_count": 29,
   "metadata": {
    "collapsed": false
   },
   "outputs": [],
   "source": [
    "X_tr =  train_clean.drop(['SalePrice', 'fold', 'Id'], axis=1)\n",
    "y_tr = train_clean['SalePrice']    \n",
    "\n",
    "ls = Lasso(alpha=0.001)\n",
    "ls.fit(X_tr, y_tr)\n",
    "\n",
    "knn = KNeighborsRegressor(n_neighbors=8)\n",
    "knn.fit(X_tr, y_tr)\n",
    "                    \n",
    "rf= RandomForestRegressor(max_depth=9, n_estimators=45)\n",
    "rf.fit(X_tr, y_tr)\n",
    "\n",
    "hb= HuberRegressor(epsilon=1.25)\n",
    "hb.fit(X_tr,y_tr)\n",
    "\n",
    "r = Ridge(alpha=15)\n",
    "r.fit(X_tr, y_tr)\n",
    "\n",
    "params = {'eta':0.01, 'max_depth':4, 'min_child_weight':4, 'subsample':0.4, 'colsample_bytree':0.8, 'scale_pos_weight':1}\n",
    "dtr = xgb.DMatrix(X_tr, y_tr)\n",
    "dtest = xgb.DMatrix(test_set)\n",
    "num_rounds = 1334\n",
    "bst = xgb.train(params, dtr, num_rounds)\n",
    "\n",
    "\n",
    "m1 = ls.predict(test_set)\n",
    "m2 = bst.predict(dtest)\n",
    "m3 = knn.predict(test_set)\n",
    "m4 = rf.predict(test_set)\n",
    "m5 = hb.predict(test_set)\n",
    "m6 = r.predict(test_set)\n",
    "\n",
    "\n",
    "test_set.loc[:, 'm1'] = m1\n",
    "test_set.loc[:, 'm2'] = m2\n",
    "test_set.loc[:, 'm3'] = m3\n",
    "test_set.loc[:, 'm4'] = m4\n",
    "test_set.loc[:, 'm5'] = m5\n",
    "test_set.loc[:, 'm6'] = m6\n"
   ]
  },
  {
   "cell_type": "code",
   "execution_count": 32,
   "metadata": {
    "collapsed": false
   },
   "outputs": [
    {
     "data": {
      "text/html": [
       "<div>\n",
       "<style scoped>\n",
       "    .dataframe tbody tr th:only-of-type {\n",
       "        vertical-align: middle;\n",
       "    }\n",
       "\n",
       "    .dataframe tbody tr th {\n",
       "        vertical-align: top;\n",
       "    }\n",
       "\n",
       "    .dataframe thead th {\n",
       "        text-align: right;\n",
       "    }\n",
       "</style>\n",
       "<table border=\"1\" class=\"dataframe\">\n",
       "  <thead>\n",
       "    <tr style=\"text-align: right;\">\n",
       "      <th></th>\n",
       "      <th>m1</th>\n",
       "      <th>m2</th>\n",
       "      <th>m3</th>\n",
       "      <th>m4</th>\n",
       "      <th>m5</th>\n",
       "      <th>m6</th>\n",
       "    </tr>\n",
       "  </thead>\n",
       "  <tbody>\n",
       "    <tr>\n",
       "      <th>0</th>\n",
       "      <td>11.704515</td>\n",
       "      <td>11.759861</td>\n",
       "      <td>11.804009</td>\n",
       "      <td>11.749297</td>\n",
       "      <td>11.699601</td>\n",
       "      <td>11.684129</td>\n",
       "    </tr>\n",
       "    <tr>\n",
       "      <th>1</th>\n",
       "      <td>11.933021</td>\n",
       "      <td>11.984430</td>\n",
       "      <td>11.829794</td>\n",
       "      <td>11.937045</td>\n",
       "      <td>11.966786</td>\n",
       "      <td>11.918219</td>\n",
       "    </tr>\n",
       "    <tr>\n",
       "      <th>2</th>\n",
       "      <td>12.107182</td>\n",
       "      <td>12.105458</td>\n",
       "      <td>12.156579</td>\n",
       "      <td>12.114277</td>\n",
       "      <td>12.116783</td>\n",
       "      <td>12.126022</td>\n",
       "    </tr>\n",
       "    <tr>\n",
       "      <th>3</th>\n",
       "      <td>12.206209</td>\n",
       "      <td>12.137350</td>\n",
       "      <td>12.215960</td>\n",
       "      <td>12.096477</td>\n",
       "      <td>12.234749</td>\n",
       "      <td>12.191520</td>\n",
       "    </tr>\n",
       "    <tr>\n",
       "      <th>4</th>\n",
       "      <td>12.181544</td>\n",
       "      <td>12.173636</td>\n",
       "      <td>12.087263</td>\n",
       "      <td>12.209609</td>\n",
       "      <td>12.158725</td>\n",
       "      <td>12.176629</td>\n",
       "    </tr>\n",
       "  </tbody>\n",
       "</table>\n",
       "</div>"
      ],
      "text/plain": [
       "          m1         m2         m3         m4         m5         m6\n",
       "0  11.704515  11.759861  11.804009  11.749297  11.699601  11.684129\n",
       "1  11.933021  11.984430  11.829794  11.937045  11.966786  11.918219\n",
       "2  12.107182  12.105458  12.156579  12.114277  12.116783  12.126022\n",
       "3  12.206209  12.137350  12.215960  12.096477  12.234749  12.191520\n",
       "4  12.181544  12.173636  12.087263  12.209609  12.158725  12.176629"
      ]
     },
     "execution_count": 32,
     "metadata": {},
     "output_type": "execute_result"
    }
   ],
   "source": [
    "test_set.iloc[:, -6:].head()"
   ]
  },
  {
   "cell_type": "markdown",
   "metadata": {},
   "source": [
    "To get an idea of how our meta-model is performing, we loop through all of our folds, using the current fold as test set and the rest of the folds as train set. We fit our meta-model (SVR) on the train set and make predictions on the test set, then compare our predictions with the actual sales prices to get our score."
   ]
  },
  {
   "cell_type": "code",
   "execution_count": 34,
   "metadata": {
    "collapsed": false
   },
   "outputs": [
    {
     "name": "stdout",
     "output_type": "stream",
     "text": [
      "0.107248999412\n",
      "0.111884210576\n",
      "0.1070539283\n",
      "0.0993367889917\n",
      "0.115702654343\n",
      "mean score: 0.10824531632464432\n"
     ]
    }
   ],
   "source": [
    "scores = []\n",
    "for i in tr_meta.fold.unique():\n",
    "    test = tr_meta[tr_meta.fold == i]\n",
    "    tr = tr_meta[tr_meta.fold != i]\n",
    "    X_tr =  tr[['m1',  'm2', 'm3', 'm4', 'm5', 'm6']]\n",
    "    X_test =  test[['m1', 'm2', 'm3', 'm4', 'm5', 'm6']]\n",
    "    y_test = test['SalePrice']\n",
    "    y_tr = tr['SalePrice']    \n",
    "    \n",
    "    sv = SVR(kernel='linear', C=.4)\n",
    "    sv.fit(X_tr, y_tr)\n",
    "    preds = sv.predict(X_test)\n",
    "    score = np.sqrt(np.mean((y_test.values - preds) **2))\n",
    "    print(score)\n",
    "    scores.append(score)\n",
    "print('mean score: {}'.format(np.mean(scores)))"
   ]
  },
  {
   "cell_type": "markdown",
   "metadata": {},
   "source": [
    "Performance looks reasonable, so we fit our meta-model on all of the data created by our base-models, then make predictions to submit."
   ]
  },
  {
   "cell_type": "code",
   "execution_count": 43,
   "metadata": {
    "collapsed": false
   },
   "outputs": [],
   "source": [
    "X_tr =  tr_meta[['m1', 'm2', 'm3', 'm4', 'm5', 'm6']]\n",
    "X_test =  test_set[['m1', 'm2', 'm3', 'm4', 'm5', 'm6']]\n",
    "y_tr = tr_meta['SalePrice']\n",
    "sv = SVR(kernel='linear', C=.4)\n",
    "sv.fit(X_tr, y_tr)    \n",
    "\n",
    "preds = np.expm1(sv.predict(X_test))\n",
    "\n",
    "solution = pd.DataFrame({\"id\":ids, \"SalePrice\":preds}, columns=['id', 'SalePrice'])\n",
    "solution.to_csv(\"stack_sv_refac.csv\", index = False)"
   ]
  },
  {
   "cell_type": "markdown",
   "metadata": {},
   "source": [
    "Comparing our solution to a previous one as a sanity check."
   ]
  },
  {
   "cell_type": "code",
   "execution_count": 44,
   "metadata": {
    "collapsed": false
   },
   "outputs": [
    {
     "data": {
      "text/html": [
       "<div>\n",
       "<style scoped>\n",
       "    .dataframe tbody tr th:only-of-type {\n",
       "        vertical-align: middle;\n",
       "    }\n",
       "\n",
       "    .dataframe tbody tr th {\n",
       "        vertical-align: top;\n",
       "    }\n",
       "\n",
       "    .dataframe thead th {\n",
       "        text-align: right;\n",
       "    }\n",
       "</style>\n",
       "<table border=\"1\" class=\"dataframe\">\n",
       "  <thead>\n",
       "    <tr style=\"text-align: right;\">\n",
       "      <th></th>\n",
       "      <th>id</th>\n",
       "      <th>SalePrice</th>\n",
       "    </tr>\n",
       "  </thead>\n",
       "  <tbody>\n",
       "    <tr>\n",
       "      <th>0</th>\n",
       "      <td>1461</td>\n",
       "      <td>123935.827919</td>\n",
       "    </tr>\n",
       "    <tr>\n",
       "      <th>1</th>\n",
       "      <td>1462</td>\n",
       "      <td>154055.408300</td>\n",
       "    </tr>\n",
       "    <tr>\n",
       "      <th>2</th>\n",
       "      <td>1463</td>\n",
       "      <td>184739.131214</td>\n",
       "    </tr>\n",
       "    <tr>\n",
       "      <th>3</th>\n",
       "      <td>1464</td>\n",
       "      <td>196656.755681</td>\n",
       "    </tr>\n",
       "    <tr>\n",
       "      <th>4</th>\n",
       "      <td>1465</td>\n",
       "      <td>191362.929464</td>\n",
       "    </tr>\n",
       "  </tbody>\n",
       "</table>\n",
       "</div>"
      ],
      "text/plain": [
       "     id      SalePrice\n",
       "0  1461  123935.827919\n",
       "1  1462  154055.408300\n",
       "2  1463  184739.131214\n",
       "3  1464  196656.755681\n",
       "4  1465  191362.929464"
      ]
     },
     "execution_count": 44,
     "metadata": {},
     "output_type": "execute_result"
    }
   ],
   "source": [
    "pd.read_csv('stack_mult.csv').head()"
   ]
  },
  {
   "cell_type": "code",
   "execution_count": 45,
   "metadata": {
    "collapsed": false
   },
   "outputs": [
    {
     "data": {
      "text/html": [
       "<div>\n",
       "<style scoped>\n",
       "    .dataframe tbody tr th:only-of-type {\n",
       "        vertical-align: middle;\n",
       "    }\n",
       "\n",
       "    .dataframe tbody tr th {\n",
       "        vertical-align: top;\n",
       "    }\n",
       "\n",
       "    .dataframe thead th {\n",
       "        text-align: right;\n",
       "    }\n",
       "</style>\n",
       "<table border=\"1\" class=\"dataframe\">\n",
       "  <thead>\n",
       "    <tr style=\"text-align: right;\">\n",
       "      <th></th>\n",
       "      <th>id</th>\n",
       "      <th>SalePrice</th>\n",
       "    </tr>\n",
       "  </thead>\n",
       "  <tbody>\n",
       "    <tr>\n",
       "      <th>0</th>\n",
       "      <td>1461</td>\n",
       "      <td>122932.308682</td>\n",
       "    </tr>\n",
       "    <tr>\n",
       "      <th>1</th>\n",
       "      <td>1462</td>\n",
       "      <td>154215.930100</td>\n",
       "    </tr>\n",
       "    <tr>\n",
       "      <th>2</th>\n",
       "      <td>1463</td>\n",
       "      <td>183381.564393</td>\n",
       "    </tr>\n",
       "    <tr>\n",
       "      <th>3</th>\n",
       "      <td>1464</td>\n",
       "      <td>194679.457561</td>\n",
       "    </tr>\n",
       "    <tr>\n",
       "      <th>4</th>\n",
       "      <td>1465</td>\n",
       "      <td>194963.189982</td>\n",
       "    </tr>\n",
       "  </tbody>\n",
       "</table>\n",
       "</div>"
      ],
      "text/plain": [
       "     id      SalePrice\n",
       "0  1461  122932.308682\n",
       "1  1462  154215.930100\n",
       "2  1463  183381.564393\n",
       "3  1464  194679.457561\n",
       "4  1465  194963.189982"
      ]
     },
     "execution_count": 45,
     "metadata": {},
     "output_type": "execute_result"
    }
   ],
   "source": [
    "solution.head()"
   ]
  }
 ],
 "metadata": {
  "kernelspec": {
   "display_name": "Python 3",
   "language": "python",
   "name": "python3"
  },
  "language_info": {
   "codemirror_mode": {
    "name": "ipython",
    "version": 3
   },
   "file_extension": ".py",
   "mimetype": "text/x-python",
   "name": "python",
   "nbconvert_exporter": "python",
   "pygments_lexer": "ipython3",
   "version": "3.6.0"
  }
 },
 "nbformat": 4,
 "nbformat_minor": 1
}
